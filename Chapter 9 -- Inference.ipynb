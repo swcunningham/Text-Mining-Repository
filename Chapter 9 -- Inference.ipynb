{
 "cells": [
  {
   "cell_type": "markdown",
   "metadata": {},
   "source": [
    "Here we import three full text corpuses"
   ]
  },
  {
   "cell_type": "code",
   "execution_count": 1,
   "metadata": {
    "collapsed": false
   },
   "outputs": [],
   "source": [
    "import json\n",
    "\n",
    "# Import Counters, a pseudo-random collection of science (40k)\n",
    "fn = 'C:/iPython Notebook/Output/all science/sci_JSON.txt'\n",
    "with open(fn, encoding = 'UTF-8') as fh:\n",
    "    science_text = json.load(fh)\n",
    "fh.close()\n",
    "\n",
    "# Import Counters, an index of nanotechnology articles (27k)\n",
    "fn = 'C:/iPython Notebook/Output/nano/full_nano_JSON.txt'\n",
    "with open(fn, encoding = 'UTF-8') as fh:\n",
    "    nano_text = json.load(fh)\n",
    "fh.close()\n",
    "\n",
    "import json\n",
    "\n",
    "# Import Counters, a pseudo-random collection of nanoparticles (17k)\n",
    "fn = 'C:/iPython Notebook/Output/nano/full_nanopart_JSON.txt'\n",
    "with open(fn, encoding = 'UTF-8') as fh:\n",
    "    part_text = json.load(fh)\n",
    "fh.close()"
   ]
  },
  {
   "cell_type": "markdown",
   "metadata": {},
   "source": [
    "Here we import two counters containing all words found in a sample of nanotechnology and of science."
   ]
  },
  {
   "cell_type": "code",
   "execution_count": 2,
   "metadata": {
    "collapsed": false
   },
   "outputs": [],
   "source": [
    "import json\n",
    "\n",
    "# Import Counters, a pseudo-random collection of science (40k)\n",
    "fn = 'C:/iPython Notebook/Output/all science/science_Counter.txt'\n",
    "with open(fn, encoding = 'UTF-8') as fh:\n",
    "    science = json.load(fh)\n",
    "fh.close()\n",
    "\n",
    "# Import Counters, an index of nanotechnology articles (27k)\n",
    "fn = 'C:/iPython Notebook/Output/nano/nano_Counter.txt'\n",
    "with open(fn, encoding = 'UTF-8') as fh:\n",
    "    nano = json.load(fh)\n",
    "fh.close()\n",
    "\n",
    "import json\n",
    "\n",
    "# Import Counters, a pseudo-random collection of nanoparticles (17k)\n",
    "fn = 'C:/iPython Notebook/Output/nano/full_nanopart_Counter.txt'\n",
    "with open(fn, encoding = 'UTF-8') as fh:\n",
    "    part = json.load(fh)\n",
    "fh.close()"
   ]
  },
  {
   "cell_type": "markdown",
   "metadata": {},
   "source": [
    "# Example 1. Chi-Squared Analyses"
   ]
  },
  {
   "cell_type": "markdown",
   "metadata": {},
   "source": [
    "Let's reweigh these by the total number of articles."
   ]
  },
  {
   "cell_type": "code",
   "execution_count": 23,
   "metadata": {
    "collapsed": false
   },
   "outputs": [],
   "source": [
    "\n",
    "for key in nano.keys():\n",
    "    nano[key] = nano[key]*(40/27)\n",
    "    \n",
    "for key in part.keys():\n",
    "    part[key] = part[key]*(40/17)\n",
    "    "
   ]
  },
  {
   "cell_type": "markdown",
   "metadata": {},
   "source": [
    "Here we create a dictionary of keys found in both counters."
   ]
  },
  {
   "cell_type": "code",
   "execution_count": 374,
   "metadata": {
    "collapsed": false
   },
   "outputs": [
    {
     "name": "stdout",
     "output_type": "stream",
     "text": [
      "[('stopwords', 2097746), ('use', 31128), ('studi', 20915), ('effect', 19290), ('patient', 17981), ('result', 15455), ('cell', 15259), ('model', 13731), ('activ', 12288), ('show', 12117), ('differ', 11826), ('increas', 11282), ('method', 10342), ('system', 9968), ('data', 9662), ('treatment', 9342), ('found', 9285), ('group', 9252), ('function', 8935)]\n"
     ]
    }
   ],
   "source": [
    "import itertools\n",
    "import collections\n",
    "\n",
    "short_sci = {}\n",
    "short_nano = {}\n",
    "short_part = {}\n",
    "\n",
    "a = collections.Counter(science)\n",
    "b = collections.Counter(nano)\n",
    "c = collections.Counter(part)\n",
    "d = a+b+c\n",
    "\n",
    "all_dict = d.most_common(100)\n",
    "print(all_dict[0:19])\n",
    "\n",
    "an_index = []\n",
    "\n",
    "# Here we transfer all information into a single dictionary\n",
    "for k in all_dict:\n",
    "    akey = k[0]\n",
    "    an_index.append(akey)\n",
    "    if (akey in science.keys()):\n",
    "        short_sci[akey]=science[akey]  \n",
    "    else:\n",
    "        short_sci[akey]=0\n",
    "    if (akey in nano.keys()):\n",
    "        short_nano[akey]=nano[akey]  \n",
    "    else:\n",
    "        short_nano[akey]=0\n",
    "    if (akey in nano.keys()):\n",
    "        short_part[akey]=part[akey]  \n",
    "    else:\n",
    "        short_part[akey]=0"
   ]
  },
  {
   "cell_type": "markdown",
   "metadata": {},
   "source": [
    "The next goal will be to create a data frame to do chi-squared testing."
   ]
  },
  {
   "cell_type": "code",
   "execution_count": 25,
   "metadata": {
    "collapsed": false
   },
   "outputs": [
    {
     "data": {
      "text/html": [
       "<div style=\"max-height:1000px;max-width:1500px;overflow:auto;\">\n",
       "<table border=\"1\" class=\"dataframe\">\n",
       "  <thead>\n",
       "    <tr style=\"text-align: right;\">\n",
       "      <th></th>\n",
       "      <th>sci</th>\n",
       "      <th>nano</th>\n",
       "      <th>part</th>\n",
       "    </tr>\n",
       "  </thead>\n",
       "  <tbody>\n",
       "    <tr>\n",
       "      <th>reaction</th>\n",
       "      <td> 3758</td>\n",
       "      <td> 3702.222222</td>\n",
       "      <td> 10929.411765</td>\n",
       "    </tr>\n",
       "    <tr>\n",
       "      <th>sampl</th>\n",
       "      <td> 5338</td>\n",
       "      <td> 3357.037037</td>\n",
       "      <td>  8945.882353</td>\n",
       "    </tr>\n",
       "    <tr>\n",
       "      <th>carbon</th>\n",
       "      <td> 2218</td>\n",
       "      <td> 9688.888889</td>\n",
       "      <td> 11903.529412</td>\n",
       "    </tr>\n",
       "    <tr>\n",
       "      <th>measur</th>\n",
       "      <td> 8146</td>\n",
       "      <td> 6900.740741</td>\n",
       "      <td>  7049.411765</td>\n",
       "    </tr>\n",
       "    <tr>\n",
       "      <th>protein</th>\n",
       "      <td> 7217</td>\n",
       "      <td> 7167.407407</td>\n",
       "      <td>  4882.352941</td>\n",
       "    </tr>\n",
       "  </tbody>\n",
       "</table>\n",
       "</div>"
      ],
      "text/plain": [
       "           sci         nano          part\n",
       "reaction  3758  3702.222222  10929.411765\n",
       "sampl     5338  3357.037037   8945.882353\n",
       "carbon    2218  9688.888889  11903.529412\n",
       "measur    8146  6900.740741   7049.411765\n",
       "protein   7217  7167.407407   4882.352941"
      ]
     },
     "execution_count": 25,
     "metadata": {},
     "output_type": "execute_result"
    }
   ],
   "source": [
    "import pandas as pd\n",
    "\n",
    "df_sci = pd.DataFrame.from_dict(short_sci, orient='index')\n",
    "df_nano = pd.DataFrame.from_dict(short_nano, orient='index')\n",
    "df_part = pd.DataFrame.from_dict(short_part, orient='index')\n",
    "\n",
    "frame = [df_sci, df_nano, df_part]\n",
    "result = pd.concat(frame, axis=1)\n",
    "result.columns = ['sci','nano','part']\n",
    "result.head()"
   ]
  },
  {
   "cell_type": "markdown",
   "metadata": {},
   "source": [
    "Here we reweight the words by the total number of words in the corpus."
   ]
  },
  {
   "cell_type": "code",
   "execution_count": 50,
   "metadata": {
    "collapsed": false
   },
   "outputs": [],
   "source": [
    "result['sci']=result['sci']*1000/273\n",
    "result['nano']=result['nano']*1000/329\n",
    "result['part']=result['part']*1000/341"
   ]
  },
  {
   "cell_type": "markdown",
   "metadata": {},
   "source": [
    "Here we develop the chi-squared tests. "
   ]
  },
  {
   "cell_type": "code",
   "execution_count": 53,
   "metadata": {
    "collapsed": false
   },
   "outputs": [
    {
     "data": {
      "text/html": [
       "<div style=\"max-height:1000px;max-width:1500px;overflow:auto;\">\n",
       "<table border=\"1\" class=\"dataframe\">\n",
       "  <thead>\n",
       "    <tr style=\"text-align: right;\">\n",
       "      <th></th>\n",
       "      <th>sci</th>\n",
       "      <th>nano</th>\n",
       "      <th>part</th>\n",
       "      <th>sci_nano</th>\n",
       "      <th>sci_part</th>\n",
       "      <th>nano_part</th>\n",
       "      <th>chi_squared</th>\n",
       "    </tr>\n",
       "  </thead>\n",
       "  <tbody>\n",
       "    <tr>\n",
       "      <th>nanotechnolog</th>\n",
       "      <td>   139.194139</td>\n",
       "      <td> 99948.215693</td>\n",
       "      <td>   1904.433328</td>\n",
       "      <td> 71567961.418356</td>\n",
       "      <td>   22386.498528</td>\n",
       "      <td> 96175.636492</td>\n",
       "      <td> 71686523.553376</td>\n",
       "    </tr>\n",
       "    <tr>\n",
       "      <th>nanoparticl</th>\n",
       "      <td>  3531.135531</td>\n",
       "      <td> 92675.897782</td>\n",
       "      <td> 179423.839917</td>\n",
       "      <td>  2250490.972873</td>\n",
       "      <td> 8761556.497463</td>\n",
       "      <td> 81199.164451</td>\n",
       "      <td> 11093246.634787</td>\n",
       "    </tr>\n",
       "    <tr>\n",
       "      <th>deliveri</th>\n",
       "      <td>  2619.047619</td>\n",
       "      <td> 30264.550265</td>\n",
       "      <td>  21500.776264</td>\n",
       "      <td>   291813.639036</td>\n",
       "      <td>  136125.694704</td>\n",
       "      <td>  2537.745781</td>\n",
       "      <td>   430477.079521</td>\n",
       "    </tr>\n",
       "    <tr>\n",
       "      <th>particl</th>\n",
       "      <td>  7355.311355</td>\n",
       "      <td> 28665.991219</td>\n",
       "      <td>  53910.643436</td>\n",
       "      <td>    61743.827599</td>\n",
       "      <td>  294671.270932</td>\n",
       "      <td> 22231.656345</td>\n",
       "      <td>   378646.754875</td>\n",
       "    </tr>\n",
       "    <tr>\n",
       "      <th>technolog</th>\n",
       "      <td>  4769.230769</td>\n",
       "      <td> 44894.742767</td>\n",
       "      <td>   4643.781266</td>\n",
       "      <td>   337592.536616</td>\n",
       "      <td>       3.299815</td>\n",
       "      <td> 36087.519426</td>\n",
       "      <td>   373683.355857</td>\n",
       "    </tr>\n",
       "    <tr>\n",
       "      <th>applic</th>\n",
       "      <td> 12542.124542</td>\n",
       "      <td> 73101.429697</td>\n",
       "      <td>  36584.440228</td>\n",
       "      <td>   292408.947826</td>\n",
       "      <td>   46087.322892</td>\n",
       "      <td> 18241.647604</td>\n",
       "      <td>   356737.918322</td>\n",
       "    </tr>\n",
       "    <tr>\n",
       "      <th>nm</th>\n",
       "      <td>  4439.560440</td>\n",
       "      <td> 20673.195992</td>\n",
       "      <td>  34293.600138</td>\n",
       "      <td>    59359.688160</td>\n",
       "      <td>  200754.939244</td>\n",
       "      <td>  8973.716941</td>\n",
       "      <td>   269088.344345</td>\n",
       "    </tr>\n",
       "    <tr>\n",
       "      <th>prepar</th>\n",
       "      <td>  7417.582418</td>\n",
       "      <td> 16877.181133</td>\n",
       "      <td>  45830.602036</td>\n",
       "      <td>    12063.769947</td>\n",
       "      <td>  198927.358417</td>\n",
       "      <td> 49670.651479</td>\n",
       "      <td>   260661.779843</td>\n",
       "    </tr>\n",
       "    <tr>\n",
       "      <th>oxid</th>\n",
       "      <td> 11937.728938</td>\n",
       "      <td> 19403.354723</td>\n",
       "      <td>  54911.160945</td>\n",
       "      <td>     4668.858595</td>\n",
       "      <td>  154695.743901</td>\n",
       "      <td> 64978.676151</td>\n",
       "      <td>   224343.278647</td>\n",
       "    </tr>\n",
       "    <tr>\n",
       "      <th>materi</th>\n",
       "      <td> 11402.930403</td>\n",
       "      <td> 54080.828549</td>\n",
       "      <td>  33707.089874</td>\n",
       "      <td>   159731.132770</td>\n",
       "      <td>   43626.989917</td>\n",
       "      <td>  7675.348894</td>\n",
       "      <td>   211033.471581</td>\n",
       "    </tr>\n",
       "  </tbody>\n",
       "</table>\n",
       "</div>"
      ],
      "text/plain": [
       "                        sci          nano           part         sci_nano  \\\n",
       "nanotechnolog    139.194139  99948.215693    1904.433328  71567961.418356   \n",
       "nanoparticl     3531.135531  92675.897782  179423.839917   2250490.972873   \n",
       "deliveri        2619.047619  30264.550265   21500.776264    291813.639036   \n",
       "particl         7355.311355  28665.991219   53910.643436     61743.827599   \n",
       "technolog       4769.230769  44894.742767    4643.781266    337592.536616   \n",
       "applic         12542.124542  73101.429697   36584.440228    292408.947826   \n",
       "nm              4439.560440  20673.195992   34293.600138     59359.688160   \n",
       "prepar          7417.582418  16877.181133   45830.602036     12063.769947   \n",
       "oxid           11937.728938  19403.354723   54911.160945      4668.858595   \n",
       "materi         11402.930403  54080.828549   33707.089874    159731.132770   \n",
       "\n",
       "                     sci_part     nano_part      chi_squared  \n",
       "nanotechnolog    22386.498528  96175.636492  71686523.553376  \n",
       "nanoparticl    8761556.497463  81199.164451  11093246.634787  \n",
       "deliveri        136125.694704   2537.745781    430477.079521  \n",
       "particl         294671.270932  22231.656345    378646.754875  \n",
       "technolog            3.299815  36087.519426    373683.355857  \n",
       "applic           46087.322892  18241.647604    356737.918322  \n",
       "nm              200754.939244   8973.716941    269088.344345  \n",
       "prepar          198927.358417  49670.651479    260661.779843  \n",
       "oxid            154695.743901  64978.676151    224343.278647  \n",
       "materi           43626.989917   7675.348894    211033.471581  "
      ]
     },
     "execution_count": 53,
     "metadata": {},
     "output_type": "execute_result"
    }
   ],
   "source": [
    "result['sci_nano']=(result['sci']-result['nano'])*(result['sci']-result['nano'])/result['sci']\n",
    "result['sci_part']=(result['sci']-result['part'])*(result['sci']-result['part'])/result['sci']\n",
    "result['nano_part']=(result['nano']-result['part'])*(result['nano']-result['part'])/result['nano']\n",
    "result['chi_squared']=result['sci_nano']+result['sci_part']+result['nano_part']\n",
    "result.sort(axis=0,columns='chi_squared',ascending=False).head(10)"
   ]
  },
  {
   "cell_type": "markdown",
   "metadata": {},
   "source": [
    "Here we find that technology, nanotechnology, materials and delivery are more dedicatedly nanotechnoloigy. Particle, nanoparticle, preparation, oxides and nanometer are more dedicatedly nanoparticle research. Nanotechnology and nanoparticle research are much closer together than science as a whole, although there are differences."
   ]
  },
  {
   "cell_type": "code",
   "execution_count": 54,
   "metadata": {
    "collapsed": false
   },
   "outputs": [
    {
     "name": "stdout",
     "output_type": "stream",
     "text": [
      "The total words in the science sample is 9991461.53846\n",
      "The total words in the nano sample is 9997095.57582\n",
      "The total words in the part sample is 9992189.06331\n"
     ]
    }
   ],
   "source": [
    "# testing word count\n",
    "a= sum(result['sci'])\n",
    "b=sum(result['nano'])\n",
    "c=sum(result['part'])\n",
    "print(\"The total words in the science sample is\",a)\n",
    "print(\"The total words in the nano sample is\",b)\n",
    "print(\"The total words in the part sample is\",c)"
   ]
  },
  {
   "cell_type": "markdown",
   "metadata": {},
   "source": [
    "# Example 2. Binomial Test of Proportions"
   ]
  },
  {
   "cell_type": "code",
   "execution_count": 141,
   "metadata": {
    "collapsed": false
   },
   "outputs": [
    {
     "name": "stdout",
     "output_type": "stream",
     "text": [
      "54\n",
      "144\n",
      "56\n",
      "\n",
      "80\n",
      "89\n",
      "278\n",
      "\n",
      "29\n",
      "24\n",
      "39\n",
      "\n"
     ]
    }
   ],
   "source": [
    "import re\n",
    "\n",
    "Delft = re.compile('Delft Univ Technol')\n",
    "Manchester = re.compile('Univ Manchester')\n",
    "GT = re.compile('Georgia Inst Technol')\n",
    "\n",
    "sci = {}\n",
    "nano = {}\n",
    "part = {}\n",
    "\n",
    "\n",
    "delft_sci_list= []\n",
    "manc_sci_list = []\n",
    "gt_sci_list = []\n",
    "\n",
    "for n,artid in enumerate(science_text.keys()):\n",
    "    new_article=science_text[artid]\n",
    "    if ('C1' in new_article.keys()):\n",
    "        address= new_article['C1']\n",
    "        if (Delft.search(address)):\n",
    "            delft_sci_list.append(artid)\n",
    "        if (GT.search(address)):\n",
    "            gt_sci_list.append(artid)\n",
    "        if (Manchester.search(address)):\n",
    "            manc_sci_list.append(artid)\n",
    "            \n",
    "sci['Delft'] = len(delft_sci_list)\n",
    "sci['Manc'] = len(manc_sci_list)\n",
    "sci['GT'] = len(gt_sci_list)\n",
    "\n",
    "print(len(delft_sci_list))\n",
    "print(len(manc_sci_list))\n",
    "print(len(gt_sci_list))\n",
    "\n",
    "print()\n",
    "\n",
    "delft_nano_list= []\n",
    "manc_nano_list = []\n",
    "gt_nano_list = []\n",
    "\n",
    "for n,artid in enumerate(nano_text.keys()):\n",
    "    new_article=nano_text[artid]\n",
    "    address= new_article['C1']\n",
    "    if (Delft.search(address)):\n",
    "        delft_nano_list.append(artid)\n",
    "    if (GT.search(address)):\n",
    "        gt_nano_list.append(artid)\n",
    "    if (Manchester.search(address)):\n",
    "        manc_nano_list.append(artid)\n",
    "\n",
    "nano['Delft']= len(delft_nano_list)\n",
    "nano['Manc'] = len(manc_nano_list)\n",
    "nano['GT'] = len(gt_nano_list)\n",
    "\n",
    "print(len(delft_nano_list))\n",
    "print(len(manc_nano_list))\n",
    "print(len(gt_nano_list))\n",
    "print()\n",
    "\n",
    "delft_part_list= []\n",
    "manc_part_list = []\n",
    "gt_part_list = []\n",
    "\n",
    "for n,artid in enumerate(part_text.keys()):\n",
    "    new_article=part_text[artid]\n",
    "    address= new_article['C1']\n",
    "\n",
    "    if (Delft.search(address)):\n",
    "        delft_part_list.append(artid)\n",
    "    if (GT.search(address)):\n",
    "        gt_part_list.append(artid)\n",
    "    if (Manchester.search(address)):\n",
    "        manc_part_list.append(artid)\n",
    "\n",
    "part['Delft']= len(delft_part_list)\n",
    "part['Manc'] = len(manc_part_list)\n",
    "part['GT'] = len(gt_part_list)\n",
    "\n",
    "print(len(delft_part_list))\n",
    "print(len(manc_part_list))\n",
    "print(len(gt_part_list))\n",
    "print()"
   ]
  },
  {
   "cell_type": "code",
   "execution_count": 148,
   "metadata": {
    "collapsed": false
   },
   "outputs": [
    {
     "data": {
      "text/html": [
       "<div style=\"max-height:1000px;max-width:1500px;overflow:auto;\">\n",
       "<table border=\"1\" class=\"dataframe\">\n",
       "  <thead>\n",
       "    <tr style=\"text-align: right;\">\n",
       "      <th></th>\n",
       "      <th>sci</th>\n",
       "      <th>nano</th>\n",
       "      <th>part</th>\n",
       "    </tr>\n",
       "  </thead>\n",
       "  <tbody>\n",
       "    <tr>\n",
       "      <th>Manc</th>\n",
       "      <td> 144</td>\n",
       "      <td>  89</td>\n",
       "      <td> 24</td>\n",
       "    </tr>\n",
       "    <tr>\n",
       "      <th>Delft</th>\n",
       "      <td>  54</td>\n",
       "      <td>  80</td>\n",
       "      <td> 29</td>\n",
       "    </tr>\n",
       "    <tr>\n",
       "      <th>GT</th>\n",
       "      <td>  56</td>\n",
       "      <td> 278</td>\n",
       "      <td> 39</td>\n",
       "    </tr>\n",
       "  </tbody>\n",
       "</table>\n",
       "</div>"
      ],
      "text/plain": [
       "       sci  nano  part\n",
       "Manc   144    89    24\n",
       "Delft   54    80    29\n",
       "GT      56   278    39"
      ]
     },
     "execution_count": 148,
     "metadata": {},
     "output_type": "execute_result"
    }
   ],
   "source": [
    "import pandas as pd\n",
    "\n",
    "df1  = pd.DataFrame.from_dict(sci, orient='index')\n",
    "df2  = pd.DataFrame.from_dict(nano, orient='index')\n",
    "df3  = pd.DataFrame.from_dict(part, orient='index')\n",
    "df3.head()\n",
    "frame1 = [df1, df2, df3]\n",
    "result1 = pd.concat(frame1, axis=1)\n",
    "result1.columns=['sci','nano','part']\n",
    "#result1\n",
    "result1"
   ]
  },
  {
   "cell_type": "code",
   "execution_count": 149,
   "metadata": {
    "collapsed": false
   },
   "outputs": [
    {
     "data": {
      "text/html": [
       "<div style=\"max-height:1000px;max-width:1500px;overflow:auto;\">\n",
       "<table border=\"1\" class=\"dataframe\">\n",
       "  <thead>\n",
       "    <tr style=\"text-align: right;\">\n",
       "      <th></th>\n",
       "      <th>sci</th>\n",
       "      <th>nano</th>\n",
       "      <th>part</th>\n",
       "    </tr>\n",
       "  </thead>\n",
       "  <tbody>\n",
       "    <tr>\n",
       "      <th>Manc</th>\n",
       "      <td> 230256</td>\n",
       "      <td> 169.901</td>\n",
       "      <td> 1205.04</td>\n",
       "    </tr>\n",
       "    <tr>\n",
       "      <th>Delft</th>\n",
       "      <td>  86346</td>\n",
       "      <td> 152.720</td>\n",
       "      <td> 1456.09</td>\n",
       "    </tr>\n",
       "    <tr>\n",
       "      <th>GT</th>\n",
       "      <td>  89544</td>\n",
       "      <td> 530.702</td>\n",
       "      <td> 1958.19</td>\n",
       "    </tr>\n",
       "  </tbody>\n",
       "</table>\n",
       "</div>"
      ],
      "text/plain": [
       "          sci     nano     part\n",
       "Manc   230256  169.901  1205.04\n",
       "Delft   86346  152.720  1456.09\n",
       "GT      89544  530.702  1958.19"
      ]
     },
     "execution_count": 149,
     "metadata": {},
     "output_type": "execute_result"
    }
   ],
   "source": [
    "# correct with our real estimates of scientific activity\n",
    "result1['sci']=result1['sci']*1599\n",
    "result1['nano']=result1['nano']*1.909\n",
    "result1['part']=result1['part']*50.21\n",
    "result1"
   ]
  },
  {
   "cell_type": "code",
   "execution_count": 281,
   "metadata": {
    "collapsed": false
   },
   "outputs": [
    {
     "data": {
      "image/png": "[encoded data removed]",
      "text/plain": [
       "<matplotlib.figure.Figure at 0x2bf3a908>"
      ]
     },
     "metadata": {},
     "output_type": "display_data"
    }
   ],
   "source": [
    "# What is the natural variation in the model\n",
    "# If Manchester publishes nanotechnology at a constant rate, how many papers might there actually be\n",
    "\n",
    "%matplotlib inline\n",
    "import matplotlib.pyplot as plt\n",
    "\n",
    "p = result1.at['Manc','nano']/result1.at['Manc','sci']\n",
    "nn = result1.at['Manc','sci']\n",
    "\n",
    "new_list = []\n",
    "\n",
    "# Generate possibilities and display \n",
    "for i in range(1,1000):\n",
    "    l=stat.binom.rvs(nn, p)\n",
    "    new_list.append(l)\n",
    "\n",
    "# the histogram of the data\n",
    "n, bins, patches = plt.hist(new_list, 30, normed=1, facecolor='green', alpha=0.75)\n",
    "plt.xlabel('Actual Number of Nano Articles')\n",
    "plt.ylabel('Probability')\n",
    "plt.show()"
   ]
  },
  {
   "cell_type": "code",
   "execution_count": 280,
   "metadata": {
    "collapsed": false
   },
   "outputs": [
    {
     "data": {
      "text/plain": [
       "<matplotlib.text.Text at 0x2b5fc5f8>"
      ]
     },
     "execution_count": 280,
     "metadata": {},
     "output_type": "execute_result"
    },
    {
     "data": {
      "image/png": "[encoded data removed]",
      "text/plain": [
       "<matplotlib.figure.Figure at 0x2b62ae48>"
      ]
     },
     "metadata": {},
     "output_type": "display_data"
    }
   ],
   "source": [
    "import scipy.stats as stat\n",
    "from math import log\n",
    "\n",
    "\n",
    "nn = result1.at['Manc','sci']\n",
    "xx = result1.at['Manc','nano']\n",
    "p = xx/nn\n",
    "\n",
    "x=[]\n",
    "y=[]\n",
    "for i in range(850,1200):\n",
    "    pp=p*i/1000\n",
    "    l=stat.binom.pmf(170, nn, pp)\n",
    "    y.append(l)\n",
    "    x.append(pp)\n",
    "    \n",
    "yy = sum(y)\n",
    "y = y/yy\n",
    "plt.plot(x,y)\n",
    "plt.xlabel('True Value of Nano Proportion')\n",
    "plt.ylabel('Likelihood')"
   ]
  },
  {
   "cell_type": "code",
   "execution_count": 299,
   "metadata": {
    "collapsed": false
   },
   "outputs": [
    {
     "name": "stdout",
     "output_type": "stream",
     "text": [
      "152.72\n"
     ]
    },
    {
     "data": {
      "text/plain": [
       "<matplotlib.text.Text at 0x19f2c278>"
      ]
     },
     "execution_count": 299,
     "metadata": {},
     "output_type": "execute_result"
    },
    {
     "data": {
      "image/png": "[encoded data removed]",
      "text/plain": [
       "<matplotlib.figure.Figure at 0x1a08a240>"
      ]
     },
     "metadata": {},
     "output_type": "display_data"
    }
   ],
   "source": [
    "# Does Delft do proportionately less nanotechnology than Manchester? \n",
    "import scipy.stats as stat\n",
    "\n",
    "p = result1.at['Manc','nano']/result1.at['Manc','sci']\n",
    "nn = result1.at['Delft','sci']\n",
    "xx = result1.at['Delft','nano']\n",
    "\n",
    "x=[]\n",
    "y=[]\n",
    "print(xx)\n",
    "for i in range(50,200,5):\n",
    "    prob = stat.binom.cdf(i, nn, p)\n",
    "\n",
    "    y.append(i)\n",
    "    x.append(prob)\n",
    "    \n",
    "\n",
    "plt.plot(y,x)\n",
    "plt.plot([152,152],[0,1],'b--')\n",
    "plt.xlabel('Nano Output in Articles')\n",
    "plt.ylabel('Probability Greater')"
   ]
  },
  {
   "cell_type": "code",
   "execution_count": 367,
   "metadata": {
    "collapsed": false
   },
   "outputs": [
    {
     "data": {
      "image/png": "[encoded data removed]",
      "text/plain": [
       "<matplotlib.figure.Figure at 0x13a8a898>"
      ]
     },
     "metadata": {},
     "output_type": "display_data"
    }
   ],
   "source": [
    "# Would it matter if we had over or under-estimated the rate?\n",
    "import scipy.stats as stat\n",
    "import seaborn as sns\n",
    "\n",
    "sns.set_style('whitegrid')\n",
    "\n",
    "fig = plt.figure(figsize=(10,7.5))\n",
    "ax = fig.add_subplot(111)\n",
    "\n",
    "p = result1.at['Manc','nano']/result1.at['Manc','sci']\n",
    "nn = result1.at['Delft','sci']\n",
    "xx = result1.at['Delft','nano']\n",
    "\n",
    "x1=[]\n",
    "x2=[]\n",
    "y=[]\n",
    "\n",
    "for i in range(300,2000,50):\n",
    "    ii = i/10\n",
    "    prob1 = stat.binom.cdf(ii, nn, 0.00060)\n",
    "    prob2 = stat.binom.cdf(ii, nn, 0.00090)\n",
    "    y.append(ii)\n",
    "    x1.append(prob1)\n",
    "    x2.append(prob2)\n",
    "    \n",
    "\n",
    "# ax.plot(y,x1,'b')\n",
    "# ax.plot(y,x2,'b')\n",
    "\n",
    "ax.fill_between(y, x1, x2, alpha=0.5)\n",
    "\n",
    "ax.plot([152,152],[0,1],'b--', alpha=.5)\n",
    "# ax.text('least\\nproportion',xy=(60, .5), xytext=(55, .5),color='b')\n",
    "# ax.text('greatest\\nproportion',xy=(85, .4), xytext=(79, .4),color='b')\n",
    "ax.text(32.5, .5,'least\\ncredible\\nproportion',color='#6B6B6B', bbox=dict(facecolor='white', edgecolor='None'))\n",
    "ax.text(80.5, .4,'greatest\\ncredible\\nproportion',color='#6B6B6B', bbox=dict(facecolor='white', edgecolor='None'))\n",
    "ax.text(156, .45,'actual\\nDelft\\noutput',color='#6B6B6B', bbox=dict(facecolor='white', edgecolor='None'))\n",
    "\n",
    "ax.set_xlim(xmin=20)\n",
    "\n",
    "plt.xlabel('Nano Output in Articles')\n",
    "plt.ylabel('Probability Greater')\n",
    "plt.show()"
   ]
  },
  {
   "cell_type": "code",
   "execution_count": null,
   "metadata": {
    "collapsed": true
   },
   "outputs": [],
   "source": []
  }
 ],
 "metadata": {
  "kernelspec": {
   "display_name": "Python 3",
   "language": "python",
   "name": "python3"
  },
  "language_info": {
   "codemirror_mode": {
    "name": "ipython",
    "version": 3
   },
   "file_extension": ".py",
   "mimetype": "text/x-python",
   "name": "python",
   "nbconvert_exporter": "python",
   "pygments_lexer": "ipython3",
   "version": "3.4.3"
  }
 },
 "nbformat": 4,
 "nbformat_minor": 0
}
