{
 "cells": [
  {
   "cell_type": "code",
   "execution_count": 17,
   "metadata": {
    "collapsed": false
   },
   "outputs": [],
   "source": [
    "import json\n",
    "\n",
    "with open('Output/nano/full_nanoindex_JSON.txt') as fh:\n",
    "    word_counters = json.load(fh)"
   ]
  },
  {
   "cell_type": "code",
   "execution_count": 18,
   "metadata": {
    "collapsed": false
   },
   "outputs": [],
   "source": [
    "import pandas as pd\n",
    "\n",
    "doc_word = pd.DataFrame.from_dict(word_counters, orient='index')\n",
    "\n",
    "# remove some columns\n",
    "doc_word.drop('all_others', axis=1, inplace=True)\n",
    "doc_word.drop('stopwords', axis=1, inplace=True)\n",
    "\n",
    "# fill in nans\n",
    "doc_word.fillna(0, inplace=True)\n",
    "\n",
    "# lda requires ints\n",
    "doc_word = doc_word.astype(int)"
   ]
  },
  {
   "cell_type": "code",
   "execution_count": 19,
   "metadata": {
    "collapsed": false
   },
   "outputs": [
    {
     "name": "stderr",
     "output_type": "stream",
     "text": [
      "WARNING:lda:all zero row in document-term matrix found\n"
     ]
    },
    {
     "name": "stdout",
     "output_type": "stream",
     "text": [
      "time taken is 633.9372599124908\n"
     ]
    }
   ],
   "source": [
    "import lda\n",
    "import time \n",
    "\n",
    "a = time.time()\n",
    "\n",
    "model = lda.LDA(n_topics=20, n_iter=1500, random_state=1)\n",
    "model.fit(doc_word.values) # model.fit_transform(X) is also available\n",
    "b = time.time()\n",
    "c = b-a\n",
    "print(\"time taken is\", c)"
   ]
  },
  {
   "cell_type": "code",
   "execution_count": 20,
   "metadata": {
    "collapsed": false
   },
   "outputs": [
    {
     "name": "stdout",
     "output_type": "stream",
     "text": [
      "Topic 0: nanomateri product use environment nanotechnolog health food risk assess potenti nanoparticl\n",
      "Topic 1: drug deliveri system drug delivery nanoparticl releas target use formul effect effici\n",
      "Topic 2: use water particl effect surfac coat temperatur materi increas result high\n",
      "Topic 3: cancer treatment target imag therapi use nanoparticl diseas nanotechnolog therapeut tumor\n",
      "Topic 4: magnet optic quantum dot light laser energi use electron properti reson\n",
      "Topic 5: film fabric surfac deposit nanowir growth nanostructur silicon substrat structur process\n",
      "Topic 6: nanotechnolog technolog develop research new nanotechnology scienc engin system industri materi\n",
      "Topic 7: dna structur molecular assembl self-assembl use molecul design control rna function\n",
      "Topic 8: applic materi review field develop recent nanotechnolog properti research new advanc\n",
      "Topic 9: nanotechnolog research technolog public develop studi scienc emerg paper use nanotechnology\n",
      "Topic 10: cell tissu use surfac engin implant function adhes bone stem scaffold\n",
      "Topic 11: use microscopi imag measur scan forc atom electron resolut techniqu probe\n",
      "Topic 12: protein surfac function peptid interact bind molecul structur form use group\n",
      "Topic 13: detect sensor use method sensit develop analysi biosensor sens monitor base\n",
      "Topic 14: model effect mechan dynam simul result studi experiment system structur molecular\n",
      "Topic 15: carbon nanotub carbon nanotubes cnt electron graphen properti use carbon nanotube electr applic\n",
      "Topic 16: polym nanocomposit properti fiber composit nanofib polymer prepar copolym silica materi\n",
      "Topic 17: design devic use system comput circuit paper propos perform base model\n",
      "Topic 18: nanoparticl gold use silver size synthesi particl nanoparticles metal electron nm\n",
      "Topic 19: cell effect nanoparticl np studi toxic increas result activ show oxid\n"
     ]
    }
   ],
   "source": [
    "import numpy as np\n",
    "\n",
    "topic_word = model.topic_word_  # model.components_ also works\n",
    "n_top_words = 12\n",
    "for i, topic_dist in enumerate(topic_word):\n",
    "    topic_words = np.array(doc_word.columns)[np.argsort(topic_dist)][:-n_top_words:-1]\n",
    "    print('Topic {}: {}'.format(i, ' '.join(topic_words)))"
   ]
  },
  {
   "cell_type": "code",
   "execution_count": 38,
   "metadata": {
    "collapsed": false
   },
   "outputs": [
    {
     "data": {
      "text/plain": [
       "Index([                u'cancer',               u'magnetic',\n",
       "                u'drug delivery',       u'cancer treatment',\n",
       "                       u'system',                   u'drug',\n",
       "                     u'delivery', u'magnetic nanoparticles',\n",
       "                    u'treatment',          u'nanoparticles', \n",
       "       ...\n",
       "                       u'ag-nps',            u'anodization',\n",
       "                          u'sam',               u'nanogels',\n",
       "             u'nanomanipulation',          u'communicating',\n",
       "                   u'nanofibres',              u'adhesives',\n",
       "                         u'fret',                     u'te'],\n",
       "      dtype='object', length=4999)"
      ]
     },
     "execution_count": 38,
     "metadata": {},
     "output_type": "execute_result"
    }
   ],
   "source": [
    "doc_word.columns"
   ]
  },
  {
   "cell_type": "code",
   "execution_count": 26,
   "metadata": {
    "collapsed": false
   },
   "outputs": [
    {
     "data": {
      "text/plain": [
       "array([ 1316.92064853,  1066.82438145,  1418.6875803 ,  1464.76831011,\n",
       "        1030.79658629,  1424.39426098,  2007.739549  ,  1319.77348975,\n",
       "        2637.81591581,  1925.17198076,   729.99982807,  1177.33549668,\n",
       "        1183.05063592,   956.9874206 ,  1881.12386928,   700.42107092,\n",
       "         922.24129752,  1532.54049045,  1337.09465831,  1088.31252927])"
      ]
     },
     "execution_count": 26,
     "metadata": {},
     "output_type": "execute_result"
    }
   ],
   "source": [
    "doc = model.doc_topic_.transpose()\n",
    "doc.sum(axis=1)"
   ]
  },
  {
   "cell_type": "code",
   "execution_count": null,
   "metadata": {
    "collapsed": true
   },
   "outputs": [],
   "source": []
  }
 ],
 "metadata": {
  "kernelspec": {
   "display_name": "Python 3",
   "language": "python",
   "name": "python3"
  },
  "language_info": {
   "codemirror_mode": {
    "name": "ipython",
    "version": 3
   },
   "file_extension": ".py",
   "mimetype": "text/x-python",
   "name": "python",
   "nbconvert_exporter": "python",
   "pygments_lexer": "ipython3",
   "version": "3.4.3"
  }
 },
 "nbformat": 4,
 "nbformat_minor": 0
}
