{
 "cells": [
  {
   "cell_type": "markdown",
   "metadata": {},
   "source": [
    "The chapter is 3800 words in length, in five sections. Let's assume that 1800 of that is code. The remainder is text, and accrues about 4 paragraphs per section. If need be, drop out hubs and authorities which is closely related to network analysis anyhow."
   ]
  },
  {
   "cell_type": "markdown",
   "metadata": {},
   "source": [
    "This chapter is an introduction to various linear and non-linear techniques for reducing matrices into an easily visualized form. We highight three examples. One involves information retrieval; one discusses hubs and authories; and one discusses science maps. The science map discussion invites a more extended discussion of linear subspace models and their non-linear counter-parts. "
   ]
  },
  {
   "cell_type": "markdown",
   "metadata": {},
   "source": [
    "Here we load in a dictionary of Counters."
   ]
  },
  {
   "cell_type": "code",
   "execution_count": 2,
   "metadata": {
    "collapsed": false
   },
   "outputs": [],
   "source": [
    "import json\n",
    "\n",
    "fn = 'C:/iPython Notebook/Data/JSON/full_nanoindex_JSON.txt'\n",
    "with open(fn, encoding = 'UTF-8') as fh:\n",
    "    corpus = json.load(fh)"
   ]
  },
  {
   "cell_type": "markdown",
   "metadata": {},
   "source": [
    "Here we load the full text."
   ]
  },
  {
   "cell_type": "code",
   "execution_count": 1,
   "metadata": {
    "collapsed": true
   },
   "outputs": [],
   "source": [
    "import json\n",
    "from pprint import pprint\n",
    "\n",
    "with open('Output/nano/full_nano_JSON.txt') as data_file:    \n",
    "    data = json.load(data_file)"
   ]
  },
  {
   "cell_type": "markdown",
   "metadata": {},
   "source": [
    "Here we convert the dictionary of Counters to a pandas DataFrame"
   ]
  },
  {
   "cell_type": "code",
   "execution_count": 3,
   "metadata": {
    "collapsed": false
   },
   "outputs": [],
   "source": [
    "import pandas as pd\n",
    "\n",
    "dg = pd.DataFrame.from_dict(corpus, orient='index')\n",
    "dg=dg.fillna(0)\n"
   ]
  },
  {
   "cell_type": "markdown",
   "metadata": {},
   "source": [
    "Here we extract the article ids and words into a list. I have some questions at this point about whether the extracts from the dataframe are morphable."
   ]
  },
  {
   "cell_type": "code",
   "execution_count": 61,
   "metadata": {
    "collapsed": false
   },
   "outputs": [],
   "source": [
    "article_id = list(dg.index.values)\n",
    "words = list(dg.columns.values)"
   ]
  },
  {
   "cell_type": "markdown",
   "metadata": {},
   "source": [
    "Here we keep just the most frequent 30 columns."
   ]
  },
  {
   "cell_type": "code",
   "execution_count": 74,
   "metadata": {
    "collapsed": false
   },
   "outputs": [
    {
     "data": {
      "text/html": [
       "<div style=\"max-height:1000px;max-width:1500px;overflow:auto;\">\n",
       "<table border=\"1\" class=\"dataframe\">\n",
       "  <thead>\n",
       "    <tr style=\"text-align: right;\">\n",
       "      <th></th>\n",
       "      <th>all_others</th>\n",
       "      <th>stopwords</th>\n",
       "      <th>use</th>\n",
       "      <th>nanotechnolog</th>\n",
       "      <th>nanoparticl</th>\n",
       "      <th>applic</th>\n",
       "      <th>develop</th>\n",
       "      <th>system</th>\n",
       "      <th>effect</th>\n",
       "      <th>cell</th>\n",
       "    </tr>\n",
       "  </thead>\n",
       "  <tbody>\n",
       "    <tr>\n",
       "      <th>WOS:000070991500004</th>\n",
       "      <td>  2</td>\n",
       "      <td>  1</td>\n",
       "      <td> 0</td>\n",
       "      <td> 0</td>\n",
       "      <td> 0</td>\n",
       "      <td> 0</td>\n",
       "      <td> 0</td>\n",
       "      <td> 0</td>\n",
       "      <td> 0</td>\n",
       "      <td> 0</td>\n",
       "    </tr>\n",
       "    <tr>\n",
       "      <th>WOS:000071136700022</th>\n",
       "      <td> 55</td>\n",
       "      <td> 79</td>\n",
       "      <td> 4</td>\n",
       "      <td> 1</td>\n",
       "      <td> 0</td>\n",
       "      <td> 1</td>\n",
       "      <td> 1</td>\n",
       "      <td> 0</td>\n",
       "      <td> 0</td>\n",
       "      <td> 0</td>\n",
       "    </tr>\n",
       "    <tr>\n",
       "      <th>WOS:000071326100020</th>\n",
       "      <td>  2</td>\n",
       "      <td>  2</td>\n",
       "      <td> 0</td>\n",
       "      <td> 1</td>\n",
       "      <td> 0</td>\n",
       "      <td> 0</td>\n",
       "      <td> 0</td>\n",
       "      <td> 0</td>\n",
       "      <td> 0</td>\n",
       "      <td> 0</td>\n",
       "    </tr>\n",
       "    <tr>\n",
       "      <th>WOS:000071380900046</th>\n",
       "      <td> 99</td>\n",
       "      <td> 88</td>\n",
       "      <td> 1</td>\n",
       "      <td> 0</td>\n",
       "      <td> 0</td>\n",
       "      <td> 0</td>\n",
       "      <td> 0</td>\n",
       "      <td> 0</td>\n",
       "      <td> 0</td>\n",
       "      <td> 0</td>\n",
       "    </tr>\n",
       "    <tr>\n",
       "      <th>WOS:000071393800011</th>\n",
       "      <td> 50</td>\n",
       "      <td> 52</td>\n",
       "      <td> 2</td>\n",
       "      <td> 1</td>\n",
       "      <td> 0</td>\n",
       "      <td> 0</td>\n",
       "      <td> 0</td>\n",
       "      <td> 0</td>\n",
       "      <td> 0</td>\n",
       "      <td> 0</td>\n",
       "    </tr>\n",
       "  </tbody>\n",
       "</table>\n",
       "</div>"
      ],
      "text/plain": [
       "                     all_others  stopwords  use  nanotechnolog  nanoparticl  \\\n",
       "WOS:000070991500004           2          1    0              0            0   \n",
       "WOS:000071136700022          55         79    4              1            0   \n",
       "WOS:000071326100020           2          2    0              1            0   \n",
       "WOS:000071380900046          99         88    1              0            0   \n",
       "WOS:000071393800011          50         52    2              1            0   \n",
       "\n",
       "                     applic  develop  system  effect  cell  \n",
       "WOS:000070991500004       0        0       0       0     0  \n",
       "WOS:000071136700022       1        1       0       0     0  \n",
       "WOS:000071326100020       0        0       0       0     0  \n",
       "WOS:000071380900046       0        0       0       0     0  \n",
       "WOS:000071393800011       0        0       0       0     0  "
      ]
     },
     "execution_count": 74,
     "metadata": {},
     "output_type": "execute_result"
    }
   ],
   "source": [
    "column_sum = dg.sum(axis=0)\n",
    "column_sum.sort(ascending=False)\n",
    "top_30 = column_sum[0:30]\n",
    "dg_top30 = dg[top_30.index]\n",
    "dg_top10.ix[0:5, :]"
   ]
  },
  {
   "cell_type": "markdown",
   "metadata": {},
   "source": [
    "#7.1 Latent Semantic Indexing"
   ]
  },
  {
   "cell_type": "markdown",
   "metadata": {},
   "source": [
    "Here we discuss the famous AT&T approach, the classic information retrieval approach. We also introduce SVD, and lossy compression. We also seed the ideas of transformation."
   ]
  },
  {
   "cell_type": "markdown",
   "metadata": {},
   "source": [
    "The first step is to actually do and time the SVD."
   ]
  },
  {
   "cell_type": "code",
   "execution_count": 4,
   "metadata": {
    "collapsed": false
   },
   "outputs": [
    {
     "name": "stdout",
     "output_type": "stream",
     "text": [
      "120.29487991333008\n"
     ]
    }
   ],
   "source": [
    "import scipy.sparse.linalg as sp\n",
    "\n",
    "x = dg.as_matrix()\n",
    "import time\n",
    "a = time.time()\n",
    "U, W, V = sp.svds(x,k=200)\n",
    "b = time.time()\n",
    "c = b-a\n",
    "print(c)"
   ]
  },
  {
   "cell_type": "markdown",
   "metadata": {},
   "source": [
    "We now create three dataframes to store the result. This requires first making an index on the reduced data, the factors."
   ]
  },
  {
   "cell_type": "code",
   "execution_count": 7,
   "metadata": {
    "collapsed": false
   },
   "outputs": [
    {
     "name": "stdout",
     "output_type": "stream",
     "text": [
      "['Factor 0', 'Factor 1', 'Factor 2', 'Factor 3', 'Factor 4', 'Factor 5', 'Factor 6', 'Factor 7', 'Factor 8', 'Factor 9', 'Factor 10', 'Factor 11', 'Factor 12', 'Factor 13', 'Factor 14', 'Factor 15', 'Factor 16', 'Factor 17', 'Factor 18', 'Factor 19', 'Factor 20', 'Factor 21', 'Factor 22', 'Factor 23', 'Factor 24', 'Factor 25', 'Factor 26', 'Factor 27', 'Factor 28', 'Factor 29', 'Factor 30', 'Factor 31', 'Factor 32', 'Factor 33', 'Factor 34', 'Factor 35', 'Factor 36', 'Factor 37', 'Factor 38', 'Factor 39', 'Factor 40', 'Factor 41', 'Factor 42', 'Factor 43', 'Factor 44', 'Factor 45', 'Factor 46', 'Factor 47', 'Factor 48', 'Factor 49', 'Factor 50', 'Factor 51', 'Factor 52', 'Factor 53', 'Factor 54', 'Factor 55', 'Factor 56', 'Factor 57', 'Factor 58', 'Factor 59', 'Factor 60', 'Factor 61', 'Factor 62', 'Factor 63', 'Factor 64', 'Factor 65', 'Factor 66', 'Factor 67', 'Factor 68', 'Factor 69', 'Factor 70', 'Factor 71', 'Factor 72', 'Factor 73', 'Factor 74', 'Factor 75', 'Factor 76', 'Factor 77', 'Factor 78', 'Factor 79', 'Factor 80', 'Factor 81', 'Factor 82', 'Factor 83', 'Factor 84', 'Factor 85', 'Factor 86', 'Factor 87', 'Factor 88', 'Factor 89', 'Factor 90', 'Factor 91', 'Factor 92', 'Factor 93', 'Factor 94', 'Factor 95', 'Factor 96', 'Factor 97', 'Factor 98', 'Factor 99', 'Factor 100', 'Factor 101', 'Factor 102', 'Factor 103', 'Factor 104', 'Factor 105', 'Factor 106', 'Factor 107', 'Factor 108', 'Factor 109', 'Factor 110', 'Factor 111', 'Factor 112', 'Factor 113', 'Factor 114', 'Factor 115', 'Factor 116', 'Factor 117', 'Factor 118', 'Factor 119', 'Factor 120', 'Factor 121', 'Factor 122', 'Factor 123', 'Factor 124', 'Factor 125', 'Factor 126', 'Factor 127', 'Factor 128', 'Factor 129', 'Factor 130', 'Factor 131', 'Factor 132', 'Factor 133', 'Factor 134', 'Factor 135', 'Factor 136', 'Factor 137', 'Factor 138', 'Factor 139', 'Factor 140', 'Factor 141', 'Factor 142', 'Factor 143', 'Factor 144', 'Factor 145', 'Factor 146', 'Factor 147', 'Factor 148', 'Factor 149', 'Factor 150', 'Factor 151', 'Factor 152', 'Factor 153', 'Factor 154', 'Factor 155', 'Factor 156', 'Factor 157', 'Factor 158', 'Factor 159', 'Factor 160', 'Factor 161', 'Factor 162', 'Factor 163', 'Factor 164', 'Factor 165', 'Factor 166', 'Factor 167', 'Factor 168', 'Factor 169', 'Factor 170', 'Factor 171', 'Factor 172', 'Factor 173', 'Factor 174', 'Factor 175', 'Factor 176', 'Factor 177', 'Factor 178', 'Factor 179', 'Factor 180', 'Factor 181', 'Factor 182', 'Factor 183', 'Factor 184', 'Factor 185', 'Factor 186', 'Factor 187', 'Factor 188', 'Factor 189', 'Factor 190', 'Factor 191', 'Factor 192', 'Factor 193', 'Factor 194', 'Factor 195', 'Factor 196', 'Factor 197', 'Factor 198', 'Factor 199']\n"
     ]
    }
   ],
   "source": [
    "factor_index = []\n",
    "\n",
    "for i in range(200):\n",
    "    factors = 'Factor '+str(i)\n",
    "    factor_index.append(factors)\n",
    "    \n",
    "print(factor_index)"
   ]
  },
  {
   "cell_type": "markdown",
   "metadata": {},
   "source": [
    "This example creates DataFrames out of the matrix decomposition."
   ]
  },
  {
   "cell_type": "code",
   "execution_count": 23,
   "metadata": {
    "collapsed": false
   },
   "outputs": [
    {
     "data": {
      "text/html": [
       "<div style=\"max-height:1000px;max-width:1500px;overflow:auto;\">\n",
       "<table border=\"1\" class=\"dataframe\">\n",
       "  <thead>\n",
       "    <tr style=\"text-align: right;\">\n",
       "      <th></th>\n",
       "      <th>0</th>\n",
       "    </tr>\n",
       "  </thead>\n",
       "  <tbody>\n",
       "    <tr>\n",
       "      <th>Factor 0</th>\n",
       "      <td> 70.240523</td>\n",
       "    </tr>\n",
       "    <tr>\n",
       "      <th>Factor 1</th>\n",
       "      <td> 70.406503</td>\n",
       "    </tr>\n",
       "    <tr>\n",
       "      <th>Factor 2</th>\n",
       "      <td> 70.643714</td>\n",
       "    </tr>\n",
       "    <tr>\n",
       "      <th>Factor 3</th>\n",
       "      <td> 70.701703</td>\n",
       "    </tr>\n",
       "    <tr>\n",
       "      <th>Factor 4</th>\n",
       "      <td> 70.767213</td>\n",
       "    </tr>\n",
       "  </tbody>\n",
       "</table>\n",
       "</div>"
      ],
      "text/plain": [
       "                  0\n",
       "Factor 0  70.240523\n",
       "Factor 1  70.406503\n",
       "Factor 2  70.643714\n",
       "Factor 3  70.701703\n",
       "Factor 4  70.767213"
      ]
     },
     "execution_count": 23,
     "metadata": {},
     "output_type": "execute_result"
    }
   ],
   "source": [
    "uf = pd.DataFrame(U,index=article_id,columns=factor_index)\n",
    "wf = pd.DataFrame(W,index=factor_index)\n",
    "V_hat=V.transpose()\n",
    "vf = pd.DataFrame(V_hat,index=words,columns=factor_index)\n",
    "wf.head()"
   ]
  },
  {
   "cell_type": "code",
   "execution_count": 17,
   "metadata": {
    "collapsed": false
   },
   "outputs": [
    {
     "data": {
      "text/html": [
       "<div style=\"max-height:1000px;max-width:1500px;overflow:auto;\">\n",
       "<table border=\"1\" class=\"dataframe\">\n",
       "  <thead>\n",
       "    <tr style=\"text-align: right;\">\n",
       "      <th></th>\n",
       "      <th>Factor 0</th>\n",
       "      <th>Factor 1</th>\n",
       "      <th>Factor 2</th>\n",
       "      <th>Factor 3</th>\n",
       "      <th>Factor 4</th>\n",
       "      <th>Factor 5</th>\n",
       "      <th>Factor 6</th>\n",
       "      <th>Factor 7</th>\n",
       "      <th>Factor 8</th>\n",
       "      <th>Factor 9</th>\n",
       "      <th>...</th>\n",
       "      <th>Factor 190</th>\n",
       "      <th>Factor 191</th>\n",
       "      <th>Factor 192</th>\n",
       "      <th>Factor 193</th>\n",
       "      <th>Factor 194</th>\n",
       "      <th>Factor 195</th>\n",
       "      <th>Factor 196</th>\n",
       "      <th>Factor 197</th>\n",
       "      <th>Factor 198</th>\n",
       "      <th>Factor 199</th>\n",
       "    </tr>\n",
       "  </thead>\n",
       "  <tbody>\n",
       "    <tr>\n",
       "      <th>novel</th>\n",
       "      <td>-0.112684</td>\n",
       "      <td>-0.041652</td>\n",
       "      <td>-0.082223</td>\n",
       "      <td>-0.071644</td>\n",
       "      <td> 0.067857</td>\n",
       "      <td>-0.016993</td>\n",
       "      <td>-0.003238</td>\n",
       "      <td> 0.017959</td>\n",
       "      <td> 0.045467</td>\n",
       "      <td>-0.100616</td>\n",
       "      <td>...</td>\n",
       "      <td> 0.011290</td>\n",
       "      <td>-0.036145</td>\n",
       "      <td>-0.015277</td>\n",
       "      <td> 0.003142</td>\n",
       "      <td>-0.023992</td>\n",
       "      <td>-0.010732</td>\n",
       "      <td>-0.030208</td>\n",
       "      <td>-0.003968</td>\n",
       "      <td> 0.001566</td>\n",
       "      <td>-0.001855</td>\n",
       "    </tr>\n",
       "    <tr>\n",
       "      <th>show</th>\n",
       "      <td>-0.020358</td>\n",
       "      <td>-0.000561</td>\n",
       "      <td> 0.033720</td>\n",
       "      <td> 0.007178</td>\n",
       "      <td> 0.010750</td>\n",
       "      <td>-0.009599</td>\n",
       "      <td> 0.006919</td>\n",
       "      <td>-0.001989</td>\n",
       "      <td>-0.003514</td>\n",
       "      <td> 0.000853</td>\n",
       "      <td>...</td>\n",
       "      <td>-0.042233</td>\n",
       "      <td> 0.031103</td>\n",
       "      <td> 0.000310</td>\n",
       "      <td>-0.013058</td>\n",
       "      <td> 0.046504</td>\n",
       "      <td>-0.021180</td>\n",
       "      <td> 0.060074</td>\n",
       "      <td>-0.041286</td>\n",
       "      <td> 0.002359</td>\n",
       "      <td>-0.003431</td>\n",
       "    </tr>\n",
       "    <tr>\n",
       "      <th>biosens</th>\n",
       "      <td>-0.002913</td>\n",
       "      <td> 0.006312</td>\n",
       "      <td> 0.000809</td>\n",
       "      <td>-0.001090</td>\n",
       "      <td>-0.004185</td>\n",
       "      <td> 0.000468</td>\n",
       "      <td> 0.001880</td>\n",
       "      <td> 0.004295</td>\n",
       "      <td> 0.001142</td>\n",
       "      <td>-0.003102</td>\n",
       "      <td>...</td>\n",
       "      <td> 0.001133</td>\n",
       "      <td>-0.002502</td>\n",
       "      <td> 0.001774</td>\n",
       "      <td> 0.001308</td>\n",
       "      <td>-0.004446</td>\n",
       "      <td>-0.002541</td>\n",
       "      <td> 0.000348</td>\n",
       "      <td> 0.000436</td>\n",
       "      <td> 0.000000</td>\n",
       "      <td>-0.000089</td>\n",
       "    </tr>\n",
       "    <tr>\n",
       "      <th>detect</th>\n",
       "      <td> 0.029677</td>\n",
       "      <td>-0.026348</td>\n",
       "      <td>-0.002902</td>\n",
       "      <td>-0.000815</td>\n",
       "      <td>-0.002702</td>\n",
       "      <td> 0.009257</td>\n",
       "      <td> 0.030091</td>\n",
       "      <td>-0.006229</td>\n",
       "      <td> 0.016885</td>\n",
       "      <td> 0.072953</td>\n",
       "      <td>...</td>\n",
       "      <td> 0.053887</td>\n",
       "      <td> 0.025844</td>\n",
       "      <td> 0.047054</td>\n",
       "      <td>-0.018539</td>\n",
       "      <td>-0.053416</td>\n",
       "      <td>-0.020543</td>\n",
       "      <td>-0.012715</td>\n",
       "      <td>-0.011384</td>\n",
       "      <td> 0.001233</td>\n",
       "      <td>-0.001863</td>\n",
       "    </tr>\n",
       "    <tr>\n",
       "      <th>effects</th>\n",
       "      <td> 0.005125</td>\n",
       "      <td>-0.006475</td>\n",
       "      <td>-0.008828</td>\n",
       "      <td> 0.001400</td>\n",
       "      <td>-0.003518</td>\n",
       "      <td>-0.001776</td>\n",
       "      <td> 0.002981</td>\n",
       "      <td> 0.013081</td>\n",
       "      <td>-0.001499</td>\n",
       "      <td>-0.005631</td>\n",
       "      <td>...</td>\n",
       "      <td>-0.021518</td>\n",
       "      <td> 0.005186</td>\n",
       "      <td> 0.001407</td>\n",
       "      <td>-0.005591</td>\n",
       "      <td> 0.015550</td>\n",
       "      <td> 0.003547</td>\n",
       "      <td> 0.007408</td>\n",
       "      <td>-0.010706</td>\n",
       "      <td>-0.000532</td>\n",
       "      <td>-0.000470</td>\n",
       "    </tr>\n",
       "  </tbody>\n",
       "</table>\n",
       "<p>5 rows × 200 columns</p>\n",
       "</div>"
      ],
      "text/plain": [
       "         Factor 0  Factor 1  Factor 2  Factor 3  Factor 4  Factor 5  Factor 6  \\\n",
       "novel   -0.112684 -0.041652 -0.082223 -0.071644  0.067857 -0.016993 -0.003238   \n",
       "show    -0.020358 -0.000561  0.033720  0.007178  0.010750 -0.009599  0.006919   \n",
       "biosens -0.002913  0.006312  0.000809 -0.001090 -0.004185  0.000468  0.001880   \n",
       "detect   0.029677 -0.026348 -0.002902 -0.000815 -0.002702  0.009257  0.030091   \n",
       "effects  0.005125 -0.006475 -0.008828  0.001400 -0.003518 -0.001776  0.002981   \n",
       "\n",
       "         Factor 7  Factor 8  Factor 9     ...      Factor 190  Factor 191  \\\n",
       "novel    0.017959  0.045467 -0.100616     ...        0.011290   -0.036145   \n",
       "show    -0.001989 -0.003514  0.000853     ...       -0.042233    0.031103   \n",
       "biosens  0.004295  0.001142 -0.003102     ...        0.001133   -0.002502   \n",
       "detect  -0.006229  0.016885  0.072953     ...        0.053887    0.025844   \n",
       "effects  0.013081 -0.001499 -0.005631     ...       -0.021518    0.005186   \n",
       "\n",
       "         Factor 192  Factor 193  Factor 194  Factor 195  Factor 196  \\\n",
       "novel     -0.015277    0.003142   -0.023992   -0.010732   -0.030208   \n",
       "show       0.000310   -0.013058    0.046504   -0.021180    0.060074   \n",
       "biosens    0.001774    0.001308   -0.004446   -0.002541    0.000348   \n",
       "detect     0.047054   -0.018539   -0.053416   -0.020543   -0.012715   \n",
       "effects    0.001407   -0.005591    0.015550    0.003547    0.007408   \n",
       "\n",
       "         Factor 197  Factor 198  Factor 199  \n",
       "novel     -0.003968    0.001566   -0.001855  \n",
       "show      -0.041286    0.002359   -0.003431  \n",
       "biosens    0.000436    0.000000   -0.000089  \n",
       "detect    -0.011384    0.001233   -0.001863  \n",
       "effects   -0.010706   -0.000532   -0.000470  \n",
       "\n",
       "[5 rows x 200 columns]"
      ]
     },
     "execution_count": 17,
     "metadata": {},
     "output_type": "execute_result"
    }
   ],
   "source": [
    "vf.head()"
   ]
  },
  {
   "cell_type": "code",
   "execution_count": 105,
   "metadata": {
    "collapsed": false
   },
   "outputs": [
    {
     "data": {
      "text/plain": [
       "WOS:000070991500004    0.000812\n",
       "WOS:000071136700022   -0.006656\n",
       "WOS:000071326100020   -0.000374\n",
       "WOS:000071380900046    0.005570\n",
       "WOS:000071393800011   -0.002333\n",
       "WOS:000071543800001   -0.000170\n",
       "WOS:000071543800041    0.002349\n",
       "WOS:000071585100004   -0.000973\n",
       "WOS:000071661300002   -0.007097\n",
       "WOS:000071904500005   -0.001824\n",
       "WOS:000072056500001    0.004637\n",
       "WOS:000072115900013   -0.004129\n",
       "WOS:000072168800001   -0.000700\n",
       "WOS:000072217300005    0.007458\n",
       "WOS:000072232400001    0.001442\n",
       "...\n",
       "WOS:A1997XT17300003    0.000186\n",
       "WOS:A1997XT17300008    0.003517\n",
       "WOS:A1997XW34300066   -0.006466\n",
       "WOS:A1997XW78300002   -0.018782\n",
       "WOS:A1997XW78300003    0.000850\n",
       "WOS:A1997XW78300004    0.001539\n",
       "WOS:A1997YA68200001    0.005903\n",
       "WOS:A1997YA92500022   -0.007223\n",
       "WOS:A1997YB96400004    0.005297\n",
       "WOS:A1997YD29300005   -0.006774\n",
       "WOS:A1997YD68700003    0.006811\n",
       "WOS:A1997YJ38600008   -0.000536\n",
       "WOS:A1997YK13500035   -0.004904\n",
       "WOS:A1997YK34600009    0.002388\n",
       "WOS:A1998YH99000014   -0.001933\n",
       "Name: Factor 0, Length: 27122, dtype: float64"
      ]
     },
     "execution_count": 105,
     "metadata": {},
     "output_type": "execute_result"
    }
   ],
   "source": [
    "uf.head()\n",
    "uf['Factor 0']"
   ]
  },
  {
   "cell_type": "markdown",
   "metadata": {},
   "source": [
    "We now save these to file for future use."
   ]
  },
  {
   "cell_type": "code",
   "execution_count": 130,
   "metadata": {
    "collapsed": false
   },
   "outputs": [],
   "source": [
    "## Save the SVD data frames to file\n",
    "import json\n",
    "\n",
    "with open('Output/nano/SVDU_JSON.txt', 'w') as fp:\n",
    "    json.dump(uf.to_json(), fp)\n",
    "\n",
    "with open('Output/nano/SVDW_JSON.txt', 'w') as fp:\n",
    "    json.dump(wf.to_json(), fp)\n",
    "\n",
    "with open('Output/nano/SVDW_JSON.txt', 'w') as fp:\n",
    "    json.dump(vf.to_json(), fp)"
   ]
  },
  {
   "cell_type": "markdown",
   "metadata": {},
   "source": [
    "These dataframes constitute a latent semantic index of the data. We can do a lot of interesting things with this data. In this example we look for synonyms and antonyms of \"useful\" and \"applied.\"  We also seek out particular articles which represent applied work with nanotubes. And we seek out particular journals which are more theoretical in character. "
   ]
  },
  {
   "cell_type": "code",
   "execution_count": 227,
   "metadata": {
    "collapsed": false
   },
   "outputs": [
    {
     "name": "stdout",
     "output_type": "stream",
     "text": [
      "processing element 0\n",
      "processing element 1\n",
      "processing element 2\n",
      "<class 'pandas.core.frame.DataFrame'>\n"
     ]
    },
    {
     "data": {
      "text/html": [
       "<div style=\"max-height:1000px;max-width:1500px;overflow:auto;\">\n",
       "<table border=\"1\" class=\"dataframe\">\n",
       "  <thead>\n",
       "    <tr style=\"text-align: right;\">\n",
       "      <th></th>\n",
       "      <th>Factor 0</th>\n",
       "      <th>Factor 1</th>\n",
       "      <th>Factor 10</th>\n",
       "      <th>Factor 100</th>\n",
       "      <th>Factor 101</th>\n",
       "      <th>Factor 102</th>\n",
       "      <th>Factor 103</th>\n",
       "      <th>Factor 104</th>\n",
       "      <th>Factor 105</th>\n",
       "      <th>Factor 106</th>\n",
       "      <th>...</th>\n",
       "      <th>Factor 90</th>\n",
       "      <th>Factor 91</th>\n",
       "      <th>Factor 92</th>\n",
       "      <th>Factor 93</th>\n",
       "      <th>Factor 94</th>\n",
       "      <th>Factor 95</th>\n",
       "      <th>Factor 96</th>\n",
       "      <th>Factor 97</th>\n",
       "      <th>Factor 98</th>\n",
       "      <th>Factor 99</th>\n",
       "    </tr>\n",
       "  </thead>\n",
       "  <tbody>\n",
       "    <tr>\n",
       "      <th>use</th>\n",
       "      <td>-0.021747</td>\n",
       "      <td> 0.014501</td>\n",
       "      <td> 0.010138</td>\n",
       "      <td>-0.008932</td>\n",
       "      <td> 0.006723</td>\n",
       "      <td> 0.009282</td>\n",
       "      <td>-0.002790</td>\n",
       "      <td>-0.018414</td>\n",
       "      <td>-0.006778</td>\n",
       "      <td> 0.016527</td>\n",
       "      <td>...</td>\n",
       "      <td>-0.001136</td>\n",
       "      <td> 0.008745</td>\n",
       "      <td>-0.003863</td>\n",
       "      <td>-0.000164</td>\n",
       "      <td>-0.007518</td>\n",
       "      <td> 0.002967</td>\n",
       "      <td> 0.008741</td>\n",
       "      <td> 0.002746</td>\n",
       "      <td>-0.002286</td>\n",
       "      <td> 0.000165</td>\n",
       "    </tr>\n",
       "    <tr>\n",
       "      <th>applic</th>\n",
       "      <td> 0.015390</td>\n",
       "      <td>-0.005043</td>\n",
       "      <td> 0.000578</td>\n",
       "      <td>-0.007894</td>\n",
       "      <td> 0.006833</td>\n",
       "      <td> 0.000582</td>\n",
       "      <td> 0.016254</td>\n",
       "      <td> 0.029065</td>\n",
       "      <td>-0.008612</td>\n",
       "      <td> 0.030659</td>\n",
       "      <td>...</td>\n",
       "      <td> 0.045328</td>\n",
       "      <td> 0.002852</td>\n",
       "      <td> 0.016987</td>\n",
       "      <td>-0.007532</td>\n",
       "      <td>-0.026063</td>\n",
       "      <td>-0.005312</td>\n",
       "      <td>-0.015309</td>\n",
       "      <td> 0.036283</td>\n",
       "      <td> 0.017412</td>\n",
       "      <td>-0.007373</td>\n",
       "    </tr>\n",
       "    <tr>\n",
       "      <th>commerci</th>\n",
       "      <td> 0.013982</td>\n",
       "      <td>-0.002309</td>\n",
       "      <td>-0.008880</td>\n",
       "      <td>-0.001314</td>\n",
       "      <td> 0.011188</td>\n",
       "      <td> 0.001777</td>\n",
       "      <td>-0.006450</td>\n",
       "      <td>-0.004472</td>\n",
       "      <td> 0.001788</td>\n",
       "      <td> 0.000315</td>\n",
       "      <td>...</td>\n",
       "      <td>-0.012727</td>\n",
       "      <td> 0.003634</td>\n",
       "      <td>-0.004646</td>\n",
       "      <td>-0.004750</td>\n",
       "      <td>-0.007312</td>\n",
       "      <td>-0.007347</td>\n",
       "      <td>-0.008914</td>\n",
       "      <td>-0.005158</td>\n",
       "      <td>-0.004950</td>\n",
       "      <td>-0.004759</td>\n",
       "    </tr>\n",
       "    <tr>\n",
       "      <th>nanotub</th>\n",
       "      <td> 0.004694</td>\n",
       "      <td> 0.052639</td>\n",
       "      <td>-0.079591</td>\n",
       "      <td>-0.078434</td>\n",
       "      <td>-0.012701</td>\n",
       "      <td> 0.029271</td>\n",
       "      <td>-0.020491</td>\n",
       "      <td> 0.034346</td>\n",
       "      <td> 0.002376</td>\n",
       "      <td>-0.009280</td>\n",
       "      <td>...</td>\n",
       "      <td> 0.006362</td>\n",
       "      <td> 0.012325</td>\n",
       "      <td>-0.019296</td>\n",
       "      <td>-0.019143</td>\n",
       "      <td>-0.045743</td>\n",
       "      <td> 0.010888</td>\n",
       "      <td> 0.015010</td>\n",
       "      <td>-0.041470</td>\n",
       "      <td> 0.083363</td>\n",
       "      <td> 0.029064</td>\n",
       "    </tr>\n",
       "    <tr>\n",
       "      <th>basic</th>\n",
       "      <td>-0.004997</td>\n",
       "      <td>-0.004497</td>\n",
       "      <td>-0.000843</td>\n",
       "      <td> 0.005956</td>\n",
       "      <td>-0.009341</td>\n",
       "      <td> 0.005634</td>\n",
       "      <td>-0.004346</td>\n",
       "      <td> 0.010688</td>\n",
       "      <td>-0.002761</td>\n",
       "      <td> 0.001830</td>\n",
       "      <td>...</td>\n",
       "      <td> 0.006262</td>\n",
       "      <td>-0.000288</td>\n",
       "      <td>-0.008438</td>\n",
       "      <td> 0.000424</td>\n",
       "      <td> 0.010624</td>\n",
       "      <td>-0.003810</td>\n",
       "      <td>-0.007221</td>\n",
       "      <td> 0.002302</td>\n",
       "      <td>-0.004685</td>\n",
       "      <td> 0.013244</td>\n",
       "    </tr>\n",
       "    <tr>\n",
       "      <th>fundament</th>\n",
       "      <td>-0.009325</td>\n",
       "      <td>-0.000757</td>\n",
       "      <td> 0.008034</td>\n",
       "      <td> 0.002130</td>\n",
       "      <td>-0.010534</td>\n",
       "      <td> 0.004225</td>\n",
       "      <td>-0.013631</td>\n",
       "      <td> 0.005127</td>\n",
       "      <td> 0.001536</td>\n",
       "      <td> 0.007879</td>\n",
       "      <td>...</td>\n",
       "      <td> 0.012182</td>\n",
       "      <td>-0.002655</td>\n",
       "      <td>-0.009304</td>\n",
       "      <td> 0.002094</td>\n",
       "      <td> 0.012959</td>\n",
       "      <td> 0.002875</td>\n",
       "      <td> 0.005029</td>\n",
       "      <td> 0.007916</td>\n",
       "      <td>-0.004282</td>\n",
       "      <td> 0.010137</td>\n",
       "    </tr>\n",
       "    <tr>\n",
       "      <th>research</th>\n",
       "      <td>-0.009220</td>\n",
       "      <td> 0.001606</td>\n",
       "      <td> 0.016793</td>\n",
       "      <td>-0.010503</td>\n",
       "      <td>-0.000553</td>\n",
       "      <td> 0.032998</td>\n",
       "      <td> 0.000404</td>\n",
       "      <td> 0.029837</td>\n",
       "      <td> 0.019012</td>\n",
       "      <td>-0.022031</td>\n",
       "      <td>...</td>\n",
       "      <td> 0.041235</td>\n",
       "      <td> 0.046229</td>\n",
       "      <td>-0.030463</td>\n",
       "      <td> 0.050428</td>\n",
       "      <td>-0.003260</td>\n",
       "      <td> 0.010288</td>\n",
       "      <td>-0.002857</td>\n",
       "      <td>-0.013395</td>\n",
       "      <td>-0.001175</td>\n",
       "      <td> 0.026721</td>\n",
       "    </tr>\n",
       "  </tbody>\n",
       "</table>\n",
       "<p>7 rows × 200 columns</p>\n",
       "</div>"
      ],
      "text/plain": [
       "           Factor 0  Factor 1  Factor 10  Factor 100  Factor 101  Factor 102  \\\n",
       "use       -0.021747  0.014501   0.010138   -0.008932    0.006723    0.009282   \n",
       "applic     0.015390 -0.005043   0.000578   -0.007894    0.006833    0.000582   \n",
       "commerci   0.013982 -0.002309  -0.008880   -0.001314    0.011188    0.001777   \n",
       "nanotub    0.004694  0.052639  -0.079591   -0.078434   -0.012701    0.029271   \n",
       "basic     -0.004997 -0.004497  -0.000843    0.005956   -0.009341    0.005634   \n",
       "fundament -0.009325 -0.000757   0.008034    0.002130   -0.010534    0.004225   \n",
       "research  -0.009220  0.001606   0.016793   -0.010503   -0.000553    0.032998   \n",
       "\n",
       "           Factor 103  Factor 104  Factor 105  Factor 106    ...      \\\n",
       "use         -0.002790   -0.018414   -0.006778    0.016527    ...       \n",
       "applic       0.016254    0.029065   -0.008612    0.030659    ...       \n",
       "commerci    -0.006450   -0.004472    0.001788    0.000315    ...       \n",
       "nanotub     -0.020491    0.034346    0.002376   -0.009280    ...       \n",
       "basic       -0.004346    0.010688   -0.002761    0.001830    ...       \n",
       "fundament   -0.013631    0.005127    0.001536    0.007879    ...       \n",
       "research     0.000404    0.029837    0.019012   -0.022031    ...       \n",
       "\n",
       "           Factor 90  Factor 91  Factor 92  Factor 93  Factor 94  Factor 95  \\\n",
       "use        -0.001136   0.008745  -0.003863  -0.000164  -0.007518   0.002967   \n",
       "applic      0.045328   0.002852   0.016987  -0.007532  -0.026063  -0.005312   \n",
       "commerci   -0.012727   0.003634  -0.004646  -0.004750  -0.007312  -0.007347   \n",
       "nanotub     0.006362   0.012325  -0.019296  -0.019143  -0.045743   0.010888   \n",
       "basic       0.006262  -0.000288  -0.008438   0.000424   0.010624  -0.003810   \n",
       "fundament   0.012182  -0.002655  -0.009304   0.002094   0.012959   0.002875   \n",
       "research    0.041235   0.046229  -0.030463   0.050428  -0.003260   0.010288   \n",
       "\n",
       "           Factor 96  Factor 97  Factor 98  Factor 99  \n",
       "use         0.008741   0.002746  -0.002286   0.000165  \n",
       "applic     -0.015309   0.036283   0.017412  -0.007373  \n",
       "commerci   -0.008914  -0.005158  -0.004950  -0.004759  \n",
       "nanotub     0.015010  -0.041470   0.083363   0.029064  \n",
       "basic      -0.007221   0.002302  -0.004685   0.013244  \n",
       "fundament   0.005029   0.007916  -0.004282   0.010137  \n",
       "research   -0.002857  -0.013395  -0.001175   0.026721  \n",
       "\n",
       "[7 rows x 200 columns]"
      ]
     },
     "execution_count": 227,
     "metadata": {},
     "output_type": "execute_result"
    }
   ],
   "source": [
    "#144 for nanotechnolog(y)\n",
    "#322 for us(e)\n",
    "#4 for appl(ication)\n",
    "# Here we see stemmed words\n",
    "from nltk.stem.porter import *\n",
    "\n",
    "query1 = \"use uses using application useful commercialization\"\n",
    "query2 = \"nanotubes\"\n",
    "query3 = \"basic fundamental research\"\n",
    "\n",
    "stemmer = PorterStemmer()\n",
    "vector = {}\n",
    "output = pd.DataFrame([])\n",
    "output.head()\n",
    "\n",
    "for n,query in enumerate([query1, query2, query3]):\n",
    "\n",
    "    for word in query.split(\" \"):\n",
    "        w = word.lower()\n",
    "        w= stemmer.stem(w)\n",
    "        index_nano = words.index(w)\n",
    "        x=vf.ix[w]\n",
    "        #output.head()\n",
    "        output=output.append(x,ignore_index=False)\n",
    "\n",
    "output=output.drop_duplicates()\n",
    "output"
   ]
  },
  {
   "cell_type": "code",
   "execution_count": 233,
   "metadata": {
    "collapsed": false
   },
   "outputs": [
    {
     "data": {
      "text/plain": [
       "(7, 1)"
      ]
     },
     "execution_count": 233,
     "metadata": {},
     "output_type": "execute_result"
    }
   ],
   "source": [
    "weight = pd.DataFrame(pd.Series([1,1,1,0,-1,-1,-1],index=output.index.values))\n",
    "weight.shape"
   ]
  },
  {
   "cell_type": "code",
   "execution_count": 234,
   "metadata": {
    "collapsed": false
   },
   "outputs": [
    {
     "data": {
      "text/plain": [
       "(200, 7)"
      ]
     },
     "execution_count": 234,
     "metadata": {},
     "output_type": "execute_result"
    }
   ],
   "source": [
    "output_t = output.T\n",
    "output_t.shape"
   ]
  },
  {
   "cell_type": "code",
   "execution_count": 256,
   "metadata": {
    "collapsed": false
   },
   "outputs": [
    {
     "data": {
      "text/plain": [
       "(200, 1)"
      ]
     },
     "execution_count": 256,
     "metadata": {},
     "output_type": "execute_result"
    }
   ],
   "source": [
    "applied_vector = output_t.dot(weight)\n",
    "applied_vector.shape"
   ]
  },
  {
   "cell_type": "code",
   "execution_count": 283,
   "metadata": {
    "collapsed": false
   },
   "outputs": [
    {
     "data": {
      "text/html": [
       "<div style=\"max-height:1000px;max-width:1500px;overflow:auto;\">\n",
       "<table border=\"1\" class=\"dataframe\">\n",
       "  <thead>\n",
       "    <tr style=\"text-align: right;\">\n",
       "      <th></th>\n",
       "      <th>0</th>\n",
       "    </tr>\n",
       "  </thead>\n",
       "  <tbody>\n",
       "    <tr>\n",
       "      <th>use</th>\n",
       "      <td> 0.988010</td>\n",
       "    </tr>\n",
       "    <tr>\n",
       "      <th>applic</th>\n",
       "      <td> 0.912007</td>\n",
       "    </tr>\n",
       "    <tr>\n",
       "      <th>application</th>\n",
       "      <td> 0.140336</td>\n",
       "    </tr>\n",
       "    <tr>\n",
       "      <th>applications</th>\n",
       "      <td> 0.125584</td>\n",
       "    </tr>\n",
       "    <tr>\n",
       "      <th>biomed</th>\n",
       "      <td> 0.070515</td>\n",
       "    </tr>\n",
       "  </tbody>\n",
       "</table>\n",
       "</div>"
      ],
      "text/plain": [
       "                     0\n",
       "use           0.988010\n",
       "applic        0.912007\n",
       "application   0.140336\n",
       "applications  0.125584\n",
       "biomed        0.070515"
      ]
     },
     "execution_count": 283,
     "metadata": {},
     "output_type": "execute_result"
    }
   ],
   "source": [
    "vf.shape\n",
    "applied_words = vf.dot(applied_vector)\n",
    "df1=applied_words.sort([0],ascending=False)\n",
    "df1.head()"
   ]
  },
  {
   "cell_type": "code",
   "execution_count": 284,
   "metadata": {
    "collapsed": false
   },
   "outputs": [
    {
     "data": {
      "text/html": [
       "<div style=\"max-height:1000px;max-width:1500px;overflow:auto;\">\n",
       "<table border=\"1\" class=\"dataframe\">\n",
       "  <thead>\n",
       "    <tr style=\"text-align: right;\">\n",
       "      <th></th>\n",
       "      <th>0</th>\n",
       "    </tr>\n",
       "  </thead>\n",
       "  <tbody>\n",
       "    <tr>\n",
       "      <th>research</th>\n",
       "      <td>-0.976032</td>\n",
       "    </tr>\n",
       "    <tr>\n",
       "      <th>physic</th>\n",
       "      <td>-0.067265</td>\n",
       "    </tr>\n",
       "    <tr>\n",
       "      <th>nanosci</th>\n",
       "      <td>-0.052685</td>\n",
       "    </tr>\n",
       "    <tr>\n",
       "      <th>understand</th>\n",
       "      <td>-0.051612</td>\n",
       "    </tr>\n",
       "    <tr>\n",
       "      <th>fund</th>\n",
       "      <td>-0.041084</td>\n",
       "    </tr>\n",
       "  </tbody>\n",
       "</table>\n",
       "</div>"
      ],
      "text/plain": [
       "                   0\n",
       "research   -0.976032\n",
       "physic     -0.067265\n",
       "nanosci    -0.052685\n",
       "understand -0.051612\n",
       "fund       -0.041084"
      ]
     },
     "execution_count": 284,
     "metadata": {},
     "output_type": "execute_result"
    }
   ],
   "source": [
    "vf.shape\n",
    "applied_words = vf.dot(applied_vector)\n",
    "df2=applied_words.sort([0],ascending=True)\n",
    "df2.head()"
   ]
  },
  {
   "cell_type": "code",
   "execution_count": 282,
   "metadata": {
    "collapsed": false
   },
   "outputs": [
    {
     "name": "stdout",
     "output_type": "stream",
     "text": [
      "processing element 0\n"
     ]
    },
    {
     "data": {
      "text/html": [
       "<div style=\"max-height:1000px;max-width:1500px;overflow:auto;\">\n",
       "<table border=\"1\" class=\"dataframe\">\n",
       "  <thead>\n",
       "    <tr style=\"text-align: right;\">\n",
       "      <th></th>\n",
       "      <th>Factor 0</th>\n",
       "      <th>Factor 1</th>\n",
       "      <th>Factor 10</th>\n",
       "      <th>Factor 100</th>\n",
       "      <th>Factor 101</th>\n",
       "      <th>Factor 102</th>\n",
       "      <th>Factor 103</th>\n",
       "      <th>Factor 104</th>\n",
       "      <th>Factor 105</th>\n",
       "      <th>Factor 106</th>\n",
       "      <th>...</th>\n",
       "      <th>Factor 90</th>\n",
       "      <th>Factor 91</th>\n",
       "      <th>Factor 92</th>\n",
       "      <th>Factor 93</th>\n",
       "      <th>Factor 94</th>\n",
       "      <th>Factor 95</th>\n",
       "      <th>Factor 96</th>\n",
       "      <th>Factor 97</th>\n",
       "      <th>Factor 98</th>\n",
       "      <th>Factor 99</th>\n",
       "    </tr>\n",
       "  </thead>\n",
       "  <tbody>\n",
       "    <tr>\n",
       "      <th>use</th>\n",
       "      <td>-0.021747</td>\n",
       "      <td> 0.014501</td>\n",
       "      <td> 0.010138</td>\n",
       "      <td>-0.008932</td>\n",
       "      <td> 0.006723</td>\n",
       "      <td> 0.009282</td>\n",
       "      <td>-0.002790</td>\n",
       "      <td>-0.018414</td>\n",
       "      <td>-0.006778</td>\n",
       "      <td> 0.016527</td>\n",
       "      <td>...</td>\n",
       "      <td>-0.001136</td>\n",
       "      <td> 0.008745</td>\n",
       "      <td>-0.003863</td>\n",
       "      <td>-0.000164</td>\n",
       "      <td>-0.007518</td>\n",
       "      <td> 0.002967</td>\n",
       "      <td> 0.008741</td>\n",
       "      <td> 0.002746</td>\n",
       "      <td>-0.002286</td>\n",
       "      <td> 0.000165</td>\n",
       "    </tr>\n",
       "    <tr>\n",
       "      <th>applic</th>\n",
       "      <td> 0.015390</td>\n",
       "      <td>-0.005043</td>\n",
       "      <td> 0.000578</td>\n",
       "      <td>-0.007894</td>\n",
       "      <td> 0.006833</td>\n",
       "      <td> 0.000582</td>\n",
       "      <td> 0.016254</td>\n",
       "      <td> 0.029065</td>\n",
       "      <td>-0.008612</td>\n",
       "      <td> 0.030659</td>\n",
       "      <td>...</td>\n",
       "      <td> 0.045328</td>\n",
       "      <td> 0.002852</td>\n",
       "      <td> 0.016987</td>\n",
       "      <td>-0.007532</td>\n",
       "      <td>-0.026063</td>\n",
       "      <td>-0.005312</td>\n",
       "      <td>-0.015309</td>\n",
       "      <td> 0.036283</td>\n",
       "      <td> 0.017412</td>\n",
       "      <td>-0.007373</td>\n",
       "    </tr>\n",
       "    <tr>\n",
       "      <th>commerci</th>\n",
       "      <td> 0.013982</td>\n",
       "      <td>-0.002309</td>\n",
       "      <td>-0.008880</td>\n",
       "      <td>-0.001314</td>\n",
       "      <td> 0.011188</td>\n",
       "      <td> 0.001777</td>\n",
       "      <td>-0.006450</td>\n",
       "      <td>-0.004472</td>\n",
       "      <td> 0.001788</td>\n",
       "      <td> 0.000315</td>\n",
       "      <td>...</td>\n",
       "      <td>-0.012727</td>\n",
       "      <td> 0.003634</td>\n",
       "      <td>-0.004646</td>\n",
       "      <td>-0.004750</td>\n",
       "      <td>-0.007312</td>\n",
       "      <td>-0.007347</td>\n",
       "      <td>-0.008914</td>\n",
       "      <td>-0.005158</td>\n",
       "      <td>-0.004950</td>\n",
       "      <td>-0.004759</td>\n",
       "    </tr>\n",
       "    <tr>\n",
       "      <th>nanotub</th>\n",
       "      <td> 0.004694</td>\n",
       "      <td> 0.052639</td>\n",
       "      <td>-0.079591</td>\n",
       "      <td>-0.078434</td>\n",
       "      <td>-0.012701</td>\n",
       "      <td> 0.029271</td>\n",
       "      <td>-0.020491</td>\n",
       "      <td> 0.034346</td>\n",
       "      <td> 0.002376</td>\n",
       "      <td>-0.009280</td>\n",
       "      <td>...</td>\n",
       "      <td> 0.006362</td>\n",
       "      <td> 0.012325</td>\n",
       "      <td>-0.019296</td>\n",
       "      <td>-0.019143</td>\n",
       "      <td>-0.045743</td>\n",
       "      <td> 0.010888</td>\n",
       "      <td> 0.015010</td>\n",
       "      <td>-0.041470</td>\n",
       "      <td> 0.083363</td>\n",
       "      <td> 0.029064</td>\n",
       "    </tr>\n",
       "    <tr>\n",
       "      <th>basic</th>\n",
       "      <td>-0.004997</td>\n",
       "      <td>-0.004497</td>\n",
       "      <td>-0.000843</td>\n",
       "      <td> 0.005956</td>\n",
       "      <td>-0.009341</td>\n",
       "      <td> 0.005634</td>\n",
       "      <td>-0.004346</td>\n",
       "      <td> 0.010688</td>\n",
       "      <td>-0.002761</td>\n",
       "      <td> 0.001830</td>\n",
       "      <td>...</td>\n",
       "      <td> 0.006262</td>\n",
       "      <td>-0.000288</td>\n",
       "      <td>-0.008438</td>\n",
       "      <td> 0.000424</td>\n",
       "      <td> 0.010624</td>\n",
       "      <td>-0.003810</td>\n",
       "      <td>-0.007221</td>\n",
       "      <td> 0.002302</td>\n",
       "      <td>-0.004685</td>\n",
       "      <td> 0.013244</td>\n",
       "    </tr>\n",
       "    <tr>\n",
       "      <th>fundament</th>\n",
       "      <td>-0.009325</td>\n",
       "      <td>-0.000757</td>\n",
       "      <td> 0.008034</td>\n",
       "      <td> 0.002130</td>\n",
       "      <td>-0.010534</td>\n",
       "      <td> 0.004225</td>\n",
       "      <td>-0.013631</td>\n",
       "      <td> 0.005127</td>\n",
       "      <td> 0.001536</td>\n",
       "      <td> 0.007879</td>\n",
       "      <td>...</td>\n",
       "      <td> 0.012182</td>\n",
       "      <td>-0.002655</td>\n",
       "      <td>-0.009304</td>\n",
       "      <td> 0.002094</td>\n",
       "      <td> 0.012959</td>\n",
       "      <td> 0.002875</td>\n",
       "      <td> 0.005029</td>\n",
       "      <td> 0.007916</td>\n",
       "      <td>-0.004282</td>\n",
       "      <td> 0.010137</td>\n",
       "    </tr>\n",
       "    <tr>\n",
       "      <th>research</th>\n",
       "      <td>-0.009220</td>\n",
       "      <td> 0.001606</td>\n",
       "      <td> 0.016793</td>\n",
       "      <td>-0.010503</td>\n",
       "      <td>-0.000553</td>\n",
       "      <td> 0.032998</td>\n",
       "      <td> 0.000404</td>\n",
       "      <td> 0.029837</td>\n",
       "      <td> 0.019012</td>\n",
       "      <td>-0.022031</td>\n",
       "      <td>...</td>\n",
       "      <td> 0.041235</td>\n",
       "      <td> 0.046229</td>\n",
       "      <td>-0.030463</td>\n",
       "      <td> 0.050428</td>\n",
       "      <td>-0.003260</td>\n",
       "      <td> 0.010288</td>\n",
       "      <td>-0.002857</td>\n",
       "      <td>-0.013395</td>\n",
       "      <td>-0.001175</td>\n",
       "      <td> 0.026721</td>\n",
       "    </tr>\n",
       "    <tr>\n",
       "      <th>used</th>\n",
       "      <td> 0.140189</td>\n",
       "      <td>-0.125418</td>\n",
       "      <td>-0.067104</td>\n",
       "      <td> 0.040228</td>\n",
       "      <td>-0.016988</td>\n",
       "      <td> 0.010000</td>\n",
       "      <td> 0.000887</td>\n",
       "      <td> 0.022035</td>\n",
       "      <td> 0.019989</td>\n",
       "      <td>-0.005031</td>\n",
       "      <td>...</td>\n",
       "      <td> 0.016978</td>\n",
       "      <td>-0.043565</td>\n",
       "      <td>-0.002139</td>\n",
       "      <td>-0.006648</td>\n",
       "      <td> 0.004154</td>\n",
       "      <td> 0.023411</td>\n",
       "      <td>-0.021273</td>\n",
       "      <td> 0.035861</td>\n",
       "      <td>-0.011142</td>\n",
       "      <td>-0.007369</td>\n",
       "    </tr>\n",
       "    <tr>\n",
       "      <th>application</th>\n",
       "      <td>-0.005364</td>\n",
       "      <td>-0.000517</td>\n",
       "      <td> 0.013256</td>\n",
       "      <td>-0.005357</td>\n",
       "      <td> 0.003969</td>\n",
       "      <td> 0.004958</td>\n",
       "      <td> 0.005458</td>\n",
       "      <td> 0.008822</td>\n",
       "      <td> 0.004083</td>\n",
       "      <td> 0.005356</td>\n",
       "      <td>...</td>\n",
       "      <td> 0.003834</td>\n",
       "      <td> 0.006445</td>\n",
       "      <td> 0.007197</td>\n",
       "      <td>-0.007591</td>\n",
       "      <td> 0.011243</td>\n",
       "      <td>-0.014930</td>\n",
       "      <td>-0.004935</td>\n",
       "      <td> 0.021526</td>\n",
       "      <td> 0.013170</td>\n",
       "      <td> 0.002185</td>\n",
       "    </tr>\n",
       "    <tr>\n",
       "      <th>applications</th>\n",
       "      <td> 0.009679</td>\n",
       "      <td> 0.007867</td>\n",
       "      <td> 0.011725</td>\n",
       "      <td> 0.008763</td>\n",
       "      <td> 0.005884</td>\n",
       "      <td> 0.001288</td>\n",
       "      <td> 0.006377</td>\n",
       "      <td> 0.010314</td>\n",
       "      <td>-0.004019</td>\n",
       "      <td> 0.006263</td>\n",
       "      <td>...</td>\n",
       "      <td>-0.002019</td>\n",
       "      <td> 0.010012</td>\n",
       "      <td> 0.001953</td>\n",
       "      <td> 0.009144</td>\n",
       "      <td>-0.004154</td>\n",
       "      <td> 0.006340</td>\n",
       "      <td>-0.010401</td>\n",
       "      <td> 0.004725</td>\n",
       "      <td> 0.001724</td>\n",
       "      <td>-0.003607</td>\n",
       "    </tr>\n",
       "    <tr>\n",
       "      <th>nanosci</th>\n",
       "      <td> 0.004489</td>\n",
       "      <td> 0.001270</td>\n",
       "      <td>-0.020166</td>\n",
       "      <td> 0.011217</td>\n",
       "      <td>-0.007857</td>\n",
       "      <td> 0.014001</td>\n",
       "      <td>-0.009402</td>\n",
       "      <td> 0.021550</td>\n",
       "      <td>-0.015539</td>\n",
       "      <td> 0.008323</td>\n",
       "      <td>...</td>\n",
       "      <td> 0.036139</td>\n",
       "      <td>-0.001352</td>\n",
       "      <td>-0.002388</td>\n",
       "      <td> 0.021734</td>\n",
       "      <td> 0.016458</td>\n",
       "      <td> 0.019182</td>\n",
       "      <td>-0.006686</td>\n",
       "      <td> 0.003416</td>\n",
       "      <td> 0.008474</td>\n",
       "      <td>-0.000202</td>\n",
       "    </tr>\n",
       "  </tbody>\n",
       "</table>\n",
       "<p>11 rows × 200 columns</p>\n",
       "</div>"
      ],
      "text/plain": [
       "              Factor 0  Factor 1  Factor 10  Factor 100  Factor 101  \\\n",
       "use          -0.021747  0.014501   0.010138   -0.008932    0.006723   \n",
       "applic        0.015390 -0.005043   0.000578   -0.007894    0.006833   \n",
       "commerci      0.013982 -0.002309  -0.008880   -0.001314    0.011188   \n",
       "nanotub       0.004694  0.052639  -0.079591   -0.078434   -0.012701   \n",
       "basic        -0.004997 -0.004497  -0.000843    0.005956   -0.009341   \n",
       "fundament    -0.009325 -0.000757   0.008034    0.002130   -0.010534   \n",
       "research     -0.009220  0.001606   0.016793   -0.010503   -0.000553   \n",
       "used          0.140189 -0.125418  -0.067104    0.040228   -0.016988   \n",
       "application  -0.005364 -0.000517   0.013256   -0.005357    0.003969   \n",
       "applications  0.009679  0.007867   0.011725    0.008763    0.005884   \n",
       "nanosci       0.004489  0.001270  -0.020166    0.011217   -0.007857   \n",
       "\n",
       "              Factor 102  Factor 103  Factor 104  Factor 105  Factor 106  \\\n",
       "use             0.009282   -0.002790   -0.018414   -0.006778    0.016527   \n",
       "applic          0.000582    0.016254    0.029065   -0.008612    0.030659   \n",
       "commerci        0.001777   -0.006450   -0.004472    0.001788    0.000315   \n",
       "nanotub         0.029271   -0.020491    0.034346    0.002376   -0.009280   \n",
       "basic           0.005634   -0.004346    0.010688   -0.002761    0.001830   \n",
       "fundament       0.004225   -0.013631    0.005127    0.001536    0.007879   \n",
       "research        0.032998    0.000404    0.029837    0.019012   -0.022031   \n",
       "used            0.010000    0.000887    0.022035    0.019989   -0.005031   \n",
       "application     0.004958    0.005458    0.008822    0.004083    0.005356   \n",
       "applications    0.001288    0.006377    0.010314   -0.004019    0.006263   \n",
       "nanosci         0.014001   -0.009402    0.021550   -0.015539    0.008323   \n",
       "\n",
       "                ...      Factor 90  Factor 91  Factor 92  Factor 93  \\\n",
       "use             ...      -0.001136   0.008745  -0.003863  -0.000164   \n",
       "applic          ...       0.045328   0.002852   0.016987  -0.007532   \n",
       "commerci        ...      -0.012727   0.003634  -0.004646  -0.004750   \n",
       "nanotub         ...       0.006362   0.012325  -0.019296  -0.019143   \n",
       "basic           ...       0.006262  -0.000288  -0.008438   0.000424   \n",
       "fundament       ...       0.012182  -0.002655  -0.009304   0.002094   \n",
       "research        ...       0.041235   0.046229  -0.030463   0.050428   \n",
       "used            ...       0.016978  -0.043565  -0.002139  -0.006648   \n",
       "application     ...       0.003834   0.006445   0.007197  -0.007591   \n",
       "applications    ...      -0.002019   0.010012   0.001953   0.009144   \n",
       "nanosci         ...       0.036139  -0.001352  -0.002388   0.021734   \n",
       "\n",
       "              Factor 94  Factor 95  Factor 96  Factor 97  Factor 98  Factor 99  \n",
       "use           -0.007518   0.002967   0.008741   0.002746  -0.002286   0.000165  \n",
       "applic        -0.026063  -0.005312  -0.015309   0.036283   0.017412  -0.007373  \n",
       "commerci      -0.007312  -0.007347  -0.008914  -0.005158  -0.004950  -0.004759  \n",
       "nanotub       -0.045743   0.010888   0.015010  -0.041470   0.083363   0.029064  \n",
       "basic          0.010624  -0.003810  -0.007221   0.002302  -0.004685   0.013244  \n",
       "fundament      0.012959   0.002875   0.005029   0.007916  -0.004282   0.010137  \n",
       "research      -0.003260   0.010288  -0.002857  -0.013395  -0.001175   0.026721  \n",
       "used           0.004154   0.023411  -0.021273   0.035861  -0.011142  -0.007369  \n",
       "application    0.011243  -0.014930  -0.004935   0.021526   0.013170   0.002185  \n",
       "applications  -0.004154   0.006340  -0.010401   0.004725   0.001724  -0.003607  \n",
       "nanosci        0.016458   0.019182  -0.006686   0.003416   0.008474  -0.000202  \n",
       "\n",
       "[11 rows x 200 columns]"
      ]
     },
     "execution_count": 282,
     "metadata": {},
     "output_type": "execute_result"
    }
   ],
   "source": [
    "query4 ='used application applications nanosci'\n",
    "\n",
    "for n,query in enumerate([query4]):\n",
    "    print(\"processing element\",n)\n",
    "    for word in query.split(\" \"):\n",
    "        index_nano = words.index(word)\n",
    "        #print(w)\n",
    "        #print(index_nano)\n",
    "        x=vf.ix[word]\n",
    "        #output.head()\n",
    "        output=output.append(x,ignore_index=False)\n",
    "        \n",
    "output=output.drop_duplicates()\n",
    "output"
   ]
  },
  {
   "cell_type": "code",
   "execution_count": 323,
   "metadata": {
    "collapsed": false
   },
   "outputs": [
    {
     "name": "stdout",
     "output_type": "stream",
     "text": [
      "                   0\n",
      "Factor 0    0.085537\n",
      "Factor 1   -0.050327\n",
      "Factor 10  -0.040089\n",
      "Factor 100  0.018577\n",
      "Factor 101  0.014329\n",
      "Factor 102 -0.000460\n",
      "Factor 103  0.013250\n",
      "Factor 104  0.011039\n",
      "Factor 105 -0.012760\n",
      "Factor 106  0.035483\n",
      "Factor 107  0.022469\n",
      "Factor 108  0.012544\n",
      "Factor 109  0.027587\n",
      "Factor 11   0.049547\n",
      "Factor 110  0.003587\n",
      "Factor 111  0.021257\n",
      "Factor 112  0.039345\n",
      "Factor 113 -0.007323\n",
      "Factor 114 -0.014106\n",
      "Factor 115 -0.006114\n",
      "Factor 116  0.028426\n",
      "Factor 117  0.003391\n",
      "Factor 118 -0.045634\n",
      "Factor 119 -0.043249\n",
      "Factor 12  -0.103283\n",
      "Factor 120 -0.096932\n",
      "Factor 121 -0.003222\n",
      "Factor 122  0.036138\n",
      "Factor 123  0.046051\n",
      "Factor 124  0.042773\n",
      "...              ...\n",
      "Factor 72  -0.009716\n",
      "Factor 73   0.020849\n",
      "Factor 74  -0.025506\n",
      "Factor 75  -0.011816\n",
      "Factor 76  -0.003325\n",
      "Factor 77  -0.007089\n",
      "Factor 78  -0.024591\n",
      "Factor 79   0.001861\n",
      "Factor 8    0.039827\n",
      "Factor 80   0.023297\n",
      "Factor 81   0.012741\n",
      "Factor 82  -0.054023\n",
      "Factor 83  -0.018503\n",
      "Factor 84   0.026513\n",
      "Factor 85   0.009460\n",
      "Factor 86  -0.029195\n",
      "Factor 87   0.007455\n",
      "Factor 88  -0.020039\n",
      "Factor 89  -0.027429\n",
      "Factor 9   -0.012632\n",
      "Factor 90   0.012686\n",
      "Factor 91  -0.026832\n",
      "Factor 92   0.029107\n",
      "Factor 93  -0.023147\n",
      "Factor 94  -0.015912\n",
      "Factor 95   0.007101\n",
      "Factor 96  -0.025508\n",
      "Factor 97   0.048702\n",
      "Factor 98   0.015452\n",
      "Factor 99  -0.033739\n",
      "\n",
      "[200 rows x 1 columns]\n"
     ]
    }
   ],
   "source": [
    "# Find the new applied vector and normalize\n",
    "weight = pd.DataFrame(pd.Series([1,1,1,0,-1,-1,-1,1,1,1,1],index=output.index.values))\n",
    "output_t = output.T\n",
    "applied_vector = output_t.dot(weight)\n",
    "l1 = applied_vector.T.dot(applied_vector)\n",
    "l1=l1.apply(np.sqrt) \n",
    "applied_vector = applied_vector.divide(l1[0],axis='columns')\n",
    "applied_vector.size\n",
    "\n",
    "# Find the new nanotube vector and normalize\n",
    "weight = pd.DataFrame(pd.Series([0,0,0,1,0,0,0,0,0,0,0],index=output.index.values))\n",
    "output_t = output.T\n",
    "nanotube_vector = output_t.dot(weight)\n",
    "l2 = nanotube_vector.T.dot(nanotube_vector)\n",
    "l2=l2.apply(np.sqrt) \n",
    "nanotube_vector = nanotube_vector.divide(l2[0],axis='columns')\n",
    "\n",
    "# add together to get applied nanotube research\n",
    "# subtract to get theoretical nanotube research\n",
    "applied_research = applied_vector+nanotube_vector\n",
    "pure_research = nanotube_vector-applied_vector"
   ]
  },
  {
   "cell_type": "markdown",
   "metadata": {},
   "source": [
    "Here we find an exemplary example of applied research and pure research. Once we have the article ids we can print and look more closely. "
   ]
  },
  {
   "cell_type": "code",
   "execution_count": 334,
   "metadata": {
    "collapsed": false
   },
   "outputs": [
    {
     "name": "stdout",
     "output_type": "stream",
     "text": [
      "(200, 1)\n",
      "WOS:000248299200002 WOS:000338536100028\n"
     ]
    }
   ],
   "source": [
    "nanotube_applied = pd.DataFrame()\n",
    "uf.shape\n",
    "print(applied_research.shape)\n",
    "#applied_research.shape\n",
    "nanotube_applied = uf.dot(applied_research)\n",
    "#applied_vector\n",
    "nanotube_applied.head()\n",
    "\n",
    "df1=nanotube_applied.sort([0],ascending=False)\n",
    "df1.head()\n",
    "applied_id=df1.index[0]\n",
    "\n",
    "df2=nanotube_applied.sort([0],ascending=True)\n",
    "df2.head()\n",
    "pure_id=df2.index[0]\n",
    "print(applied_id,pure_id)"
   ]
  },
  {
   "cell_type": "code",
   "execution_count": 343,
   "metadata": {
    "collapsed": false
   },
   "outputs": [
    {
     "name": "stdout",
     "output_type": "stream",
     "text": [
      "Applications of carbon nanotubes in neurobiology\n",
      "Background: Carbon nanotubes are one of the most promising materials for the electronics, computer and aerospace industries. There are numerous properties of carbon nanotubes that make them attractive for applications in neurobiology: small size, flexibility, strength, inertness, electrical conductivity and ease of modification with biological compounds. Objective/Methods: Here, we discuss the current applications of carbon nanotubes in neuroscience. Results: Carbon nanotubes and their derivatives can be used as substrates/scaffolds for neural cell growth. The chemical properties of carbon nanotubes can be systematically varied by attaching different functional groups; manipulation of the charge carried by functionalized carbon nanotubes can be used to control the outgrowth and branching pattern of neuronal processes. The ease with which carbon nanotubes can be patterned makes them attractive for studying the organization of neural networks and the electrical conductivity of nanotubes can provide a mechanism to monitor or stimulate neurons through the substrate itself. However, it is important to recognize that carbon nanotubes themselves can affect neuronal function, most likely by interaction with ion channels. Conclusion: The use of carbon nanotubes in neurobiology is a promising application that has the potential to develop new methods and techniques to advance the study of neuroscience. Copyright (c) 2007 S. Karger AG, Basel.\n",
      "\n",
      "Emerging Science and Research Opportunities for Metals and Metallic Nanostructures\n",
      "During the next decade, fundamental research on metals and metallic nanostructures (MMNs) has the potential to continue transforming metals science into innovative materials, devices, and systems. A workshop to identify emerging and potentially transformative research areas in MMNs was held June 13 and 14, 2012, at the University of California Santa Barbara. There were 47 attendees at the workshop (listed in the Acknowledgements section), representing a broad range of academic institutions, industry, and government laboratories. The metals and metallic nanostructures (MMNs) workshop aimed to identify significant research trends, scientific fundamentals, and recent breakthroughs that can enable new or enhanced MMN performance, either alone or in a more complex materials system, for a wide range of applications. Additionally, the role that MMN research can play in high-priority research and development (R&D) areas such as the U.S. Materials Genome Initiative, the National Nanotechnology Initiative, the Advanced Manufacturing Initiative, and other similar initiatives that exist internationally was assessed. The workshop also addressed critical issues related to materials research instrumentation and the cyberinfrastructure for materials science research and education, as well as science, technology, engineering, and mathematics (STEM) workforce development, with emphasis on the United States but with an appreciation that similar challenges and opportunities for the materials community exist internationally. A central theme of the workshop was that research in MMNs has provided and will continue to provide societal benefits through the integration of experiment, theory, and simulation to link atomistic, nanoscale, microscale, and mesoscale phenomena across time scales for an ever-widening range of applications. Within this overarching theme, the workshop participants identified emerging research opportunities that are categorized and described in more detail in the following sections in terms of the following: three-dimensional (3-D) and four-dimensional (4-D) materials science. Structure evolution and the challenge of heterogeneous and multicomponent systems. The science base for property prediction across the length scales. Nanoscale phenomena at surfaces-experiment, theory, and simulation. Prediction and control of the morphology, microstructure, and properties of \"bulk\" nanostructured metals. Functionality and control of materials far from equilibrium. Hybrid and multifunctional materials assemblies. Materials discovery and design: enhancing the theory-simulation-experiment loop. Following an introduction, these emerging research opportunities are discussed in detail, along with challenges and opportunities for the materials community in the areas of instrumentation, cyberinfrastructure, education, and workforce development.\n"
     ]
    }
   ],
   "source": [
    "applied_article = data[applied_id]\n",
    "applied_article_ti = applied_article['TI']\n",
    "applied_article_ab = applied_article['AB']\n",
    "print(applied_article_ti)\n",
    "print(applied_article_ab)\n",
    "print()\n",
    "\n",
    "pure_article = data[pure_id]\n",
    "pure_article_ti = pure_article['TI']\n",
    "pure_article_ab = pure_article['AB']\n",
    "print(pure_article_ti)\n",
    "print(pure_article_ab)\n"
   ]
  },
  {
   "cell_type": "markdown",
   "metadata": {},
   "source": [
    "#7.2 Hubs and Authorities"
   ]
  },
  {
   "cell_type": "code",
   "execution_count": null,
   "metadata": {
    "collapsed": true
   },
   "outputs": [],
   "source": [
    "Here we discuss the \"trusted authorities in a hyperlinked environment approach.\" We also relate it to Coleman centrality. This will be discussed in passing."
   ]
  },
  {
   "cell_type": "markdown",
   "metadata": {},
   "source": [
    "#7.3 Linear Subspace Models"
   ]
  },
  {
   "cell_type": "markdown",
   "metadata": {},
   "source": [
    "Here we plot the first four dimensions of the singular value decomposition."
   ]
  },
  {
   "cell_type": "code",
   "execution_count": 119,
   "metadata": {
    "collapsed": false
   },
   "outputs": [
    {
     "data": {
      "image/png": "[encoded data removed]",
      "text/plain": [
       "<matplotlib.figure.Figure at 0x18099080>"
      ]
     },
     "metadata": {},
     "output_type": "display_data"
    },
    {
     "data": {
      "image/png": "[encoded data removed]",
      "text/plain": [
       "<matplotlib.figure.Figure at 0x18099240>"
      ]
     },
     "metadata": {},
     "output_type": "display_data"
    }
   ],
   "source": [
    "%matplotlib inline\n",
    "ax=uf.plot(kind='scatter', x='Factor 0', y='Factor 1')\n",
    "ay=uf.plot(kind='scatter', x='Factor 2', y='Factor 3')"
   ]
  },
  {
   "cell_type": "markdown",
   "metadata": {},
   "source": [
    "These results are not very satisfactory. A linear subspace model results in relatively few articles being displayed in each dimension."
   ]
  },
  {
   "cell_type": "markdown",
   "metadata": {},
   "source": [
    "Here we discuss the presentation of words using MDS. MDS works on distances, attempting to place closely related words together on a page."
   ]
  },
  {
   "cell_type": "code",
   "execution_count": 46,
   "metadata": {
    "collapsed": false
   },
   "outputs": [],
   "source": [
    "import numpy as np\n",
    "\n",
    "from matplotlib import pyplot as plt\n",
    "from matplotlib.collections import LineCollection\n",
    "\n",
    "from sklearn import manifold\n",
    "from sklearn.metrics import euclidean_distances\n",
    "from sklearn.decomposition import PCA\n",
    "\n",
    "corpus_norm = dg.div(dg.sum(axis=1), axis=0)\n",
    "corpus_mean = corpus_norm.mean()\n",
    "corpus_true = dg\n",
    "corpus_true -= corpus_mean\n",
    "#similarities_articles = euclidean_distances(corpus_true)\n",
    "\n",
    "# this should be labelled distances \n",
    "distances_words = euclidean_distances(corpus_true.transpose())"
   ]
  },
  {
   "cell_type": "code",
   "execution_count": 346,
   "metadata": {
    "collapsed": false
   },
   "outputs": [
    {
     "name": "stdout",
     "output_type": "stream",
     "text": [
      "[[ -1.02306758e+03   2.62071195e+03  -3.23341589e+03   3.60580168e+03]\n",
      " [  1.76683076e+03   3.40715680e+03  -2.87855656e+03   1.93404639e+03]\n",
      " [  6.59040794e+01  -1.45043850e+02   3.11805641e+01  -2.65088550e+02]\n",
      " [  1.18950823e+02  -1.98609022e+02   2.98091478e+02  -2.08128775e+02]\n",
      " [  1.22722087e+02  -3.79168024e+02   9.85167115e+01  -1.53323101e+02]\n",
      " [  6.08264290e+01  -1.54795941e+02   2.23194296e+02  -2.72647357e+02]\n",
      " [  4.74707290e+01  -1.19266819e+02   2.53276308e+02  -1.38130312e+02]\n",
      " [ -8.31616202e+01  -2.09212596e+02   2.97384962e+02  -6.61617091e+01]\n",
      " [  1.74639184e+00  -2.37635538e+02   1.65438077e+02  -7.52470015e+01]\n",
      " [ -1.47562548e+02  -3.30223446e+02   1.40381461e+02  -8.27906261e+01]\n",
      " [ -5.06480920e+01  -1.19054410e+02   2.27489999e+02  -3.23306375e+02]\n",
      " [ -1.06187325e+02  -2.68106000e+02   8.91345643e+01  -2.66386742e+02]\n",
      " [ -1.60350340e+02  -1.66747452e+02   1.87251080e+02  -2.47881538e+02]\n",
      " [  3.02293148e+01  -1.94347701e+02   1.52566478e+02  -1.66515972e+02]\n",
      " [ -3.43487630e+01  -2.04404261e+02   1.75164698e+02  -3.04299631e+02]\n",
      " [ -5.44191847e+01  -1.69640209e+02   3.09617131e+02  -2.48514570e+02]\n",
      " [ -7.13224025e+01  -2.02344054e+02   1.52674723e+02  -1.70301346e+02]\n",
      " [  2.36112502e+01  -1.81129519e+02   3.56924410e+02  -1.52615998e+02]\n",
      " [ -4.03313716e+01  -8.92883943e+01   3.20425925e+02  -1.97767700e+02]\n",
      " [  3.17978958e+01  -2.84893183e+02   1.82728285e+02  -2.82251422e+02]\n",
      " [  1.57411010e+01  -2.48186910e+02   2.96927533e+02  -2.77551334e+02]\n",
      " [ -6.33128865e+01  -1.01560278e+02   1.87658982e+02  -2.09795621e+02]\n",
      " [ -1.56571393e+02  -2.05449717e+02   2.87034939e+02  -1.83492728e+02]\n",
      " [ -1.11716746e+02  -2.61172306e+02   2.23688996e+02  -2.71149225e+02]\n",
      " [  3.57863188e+01  -3.13863733e+02   2.89252341e+02  -7.41876120e+01]\n",
      " [  2.85472949e+01  -2.44518086e+02   2.32716786e+02  -1.87315882e+02]\n",
      " [ -6.29020218e+01  -3.23969910e+02   2.58039343e+02  -2.03481595e+02]\n",
      " [ -4.16561183e+01  -2.81369606e+02   1.72461299e+02  -1.89807256e+02]\n",
      " [ -8.40969175e+01  -1.51274507e+02   2.27766902e+02  -1.35401960e+02]\n",
      " [ -5.85091620e+01  -2.42593275e+02   2.74984179e+02  -1.86306133e+02]]\n"
     ]
    }
   ],
   "source": [
    "mds = manifold.MDS(n_components=4, max_iter=3000, eps=1e-9, random_state=seed,\n",
    "                   dissimilarity=\"precomputed\", n_jobs=1)\n",
    "pos = mds.fit(distances).embedding_\n",
    "print(pos)"
   ]
  },
  {
   "cell_type": "code",
   "execution_count": 124,
   "metadata": {
    "collapsed": false
   },
   "outputs": [
    {
     "data": {
      "image/png": "[encoded data removed]",
      "text/plain": [
       "<matplotlib.figure.Figure at 0x111d88d0>"
      ]
     },
     "metadata": {},
     "output_type": "display_data"
    }
   ],
   "source": [
    "import numpy as np\n",
    "import matplotlib.pyplot as plt\n",
    "\n",
    "pos *= np.sqrt((X_true ** 2).sum()) / np.sqrt((pos ** 2).sum())\n",
    "plt.scatter(pos[:, 2], pos[:, 3], s=20, c='g')\n",
    "plt.show()"
   ]
  },
  {
   "cell_type": "markdown",
   "metadata": {},
   "source": [
    "This section potentially discusses principal components analysis, multi-dimensional scaling, correspondence analysis, and factor analysis. This is a more mathematical and scientific discussion where we discuss the minor differences between these techniques in terms of mathematics. We also highlight some alternative implementations of this in scikitlearn or elsewhere."
   ]
  },
  {
   "cell_type": "markdown",
   "metadata": {},
   "source": [
    "Here we give a quick shout-out to available routines. Principal Components Analysis is in sklearn.decomposition.PCA. Factor Analysis is in sklearn.decomposition.FactorAnalysis. Multi-Dimensional Scaling is in sklearn.manifold.MDS. Correspondence Analysis is supported in its own package -- MCA. These can also be implemented directly using SVD. "
   ]
  },
  {
   "cell_type": "markdown",
   "metadata": {},
   "source": [
    "# 7.4 Non-Linear Subspace Models"
   ]
  },
  {
   "cell_type": "markdown",
   "metadata": {},
   "source": [
    "This discusses the linear and non-linear distinction and discusses the advantages, disadvantages and trade-offs. The chapter primarily discusses t-Stochastic Neighborhood Embedding (t-SNE). We also mention in passing some of the other techniques like self-organized maps. "
   ]
  },
  {
   "cell_type": "code",
   "execution_count": 15,
   "metadata": {
    "collapsed": false
   },
   "outputs": [],
   "source": [
    "import numpy as np\n",
    "from sklearn.manifold import TSNE\n",
    "dg.sort(ascending=False)\n",
    "dg_norm=dg.div(dg.sum(axis=1), axis=0)\n",
    "dg_norm=dg_norm.dropna()"
   ]
  },
  {
   "cell_type": "code",
   "execution_count": 45,
   "metadata": {
    "collapsed": false
   },
   "outputs": [
    {
     "name": "stdout",
     "output_type": "stream",
     "text": [
      "(27090, 5001)\n"
     ]
    },
    {
     "data": {
      "text/html": [
       "<div style=\"max-height:1000px;max-width:1500px;overflow:auto;\">\n",
       "<table border=\"1\" class=\"dataframe\">\n",
       "  <thead>\n",
       "    <tr style=\"text-align: right;\">\n",
       "      <th></th>\n",
       "      <th>well</th>\n",
       "      <th>rel</th>\n",
       "      <th>laboratori</th>\n",
       "      <th>recognized</th>\n",
       "      <th>research</th>\n",
       "      <th>gain</th>\n",
       "      <th>lithographi</th>\n",
       "      <th>term</th>\n",
       "      <th>recogn</th>\n",
       "      <th>molecular</th>\n",
       "      <th>...</th>\n",
       "      <th>connector</th>\n",
       "      <th>cerium</th>\n",
       "      <th>strip</th>\n",
       "      <th>self-clean</th>\n",
       "      <th>patterning</th>\n",
       "      <th>nnin</th>\n",
       "      <th>beta-sheet</th>\n",
       "      <th>spleen</th>\n",
       "      <th>toxin</th>\n",
       "      <th>stamp</th>\n",
       "    </tr>\n",
       "  </thead>\n",
       "  <tbody>\n",
       "    <tr>\n",
       "      <th>WOS:000070991500004</th>\n",
       "      <td> 0</td>\n",
       "      <td> 0.000000</td>\n",
       "      <td> 0</td>\n",
       "      <td> 0</td>\n",
       "      <td> 0</td>\n",
       "      <td> 0</td>\n",
       "      <td> 0</td>\n",
       "      <td> 0</td>\n",
       "      <td> 0</td>\n",
       "      <td> 0.000000</td>\n",
       "      <td>...</td>\n",
       "      <td> 0</td>\n",
       "      <td> 0</td>\n",
       "      <td> 0</td>\n",
       "      <td> 0</td>\n",
       "      <td> 0</td>\n",
       "      <td> 0</td>\n",
       "      <td> 0</td>\n",
       "      <td> 0</td>\n",
       "      <td> 0</td>\n",
       "      <td> 0</td>\n",
       "    </tr>\n",
       "    <tr>\n",
       "      <th>WOS:000071136700022</th>\n",
       "      <td> 0</td>\n",
       "      <td> 0.000000</td>\n",
       "      <td> 0</td>\n",
       "      <td> 0</td>\n",
       "      <td> 0</td>\n",
       "      <td> 0</td>\n",
       "      <td> 0</td>\n",
       "      <td> 0</td>\n",
       "      <td> 0</td>\n",
       "      <td> 0.000000</td>\n",
       "      <td>...</td>\n",
       "      <td> 0</td>\n",
       "      <td> 0</td>\n",
       "      <td> 0</td>\n",
       "      <td> 0</td>\n",
       "      <td> 0</td>\n",
       "      <td> 0</td>\n",
       "      <td> 0</td>\n",
       "      <td> 0</td>\n",
       "      <td> 0</td>\n",
       "      <td> 0</td>\n",
       "    </tr>\n",
       "    <tr>\n",
       "      <th>WOS:000071326100020</th>\n",
       "      <td> 0</td>\n",
       "      <td> 0.000000</td>\n",
       "      <td> 0</td>\n",
       "      <td> 0</td>\n",
       "      <td> 0</td>\n",
       "      <td> 0</td>\n",
       "      <td> 0</td>\n",
       "      <td> 0</td>\n",
       "      <td> 0</td>\n",
       "      <td> 0.000000</td>\n",
       "      <td>...</td>\n",
       "      <td> 0</td>\n",
       "      <td> 0</td>\n",
       "      <td> 0</td>\n",
       "      <td> 0</td>\n",
       "      <td> 0</td>\n",
       "      <td> 0</td>\n",
       "      <td> 0</td>\n",
       "      <td> 0</td>\n",
       "      <td> 0</td>\n",
       "      <td> 0</td>\n",
       "    </tr>\n",
       "    <tr>\n",
       "      <th>WOS:000071380900046</th>\n",
       "      <td> 0</td>\n",
       "      <td> 0.000000</td>\n",
       "      <td> 0</td>\n",
       "      <td> 0</td>\n",
       "      <td> 0</td>\n",
       "      <td> 0</td>\n",
       "      <td> 0</td>\n",
       "      <td> 0</td>\n",
       "      <td> 0</td>\n",
       "      <td> 0.003049</td>\n",
       "      <td>...</td>\n",
       "      <td> 0</td>\n",
       "      <td> 0</td>\n",
       "      <td> 0</td>\n",
       "      <td> 0</td>\n",
       "      <td> 0</td>\n",
       "      <td> 0</td>\n",
       "      <td> 0</td>\n",
       "      <td> 0</td>\n",
       "      <td> 0</td>\n",
       "      <td> 0</td>\n",
       "    </tr>\n",
       "    <tr>\n",
       "      <th>WOS:000071393800011</th>\n",
       "      <td> 0</td>\n",
       "      <td> 0.006135</td>\n",
       "      <td> 0</td>\n",
       "      <td> 0</td>\n",
       "      <td> 0</td>\n",
       "      <td> 0</td>\n",
       "      <td> 0</td>\n",
       "      <td> 0</td>\n",
       "      <td> 0</td>\n",
       "      <td> 0.000000</td>\n",
       "      <td>...</td>\n",
       "      <td> 0</td>\n",
       "      <td> 0</td>\n",
       "      <td> 0</td>\n",
       "      <td> 0</td>\n",
       "      <td> 0</td>\n",
       "      <td> 0</td>\n",
       "      <td> 0</td>\n",
       "      <td> 0</td>\n",
       "      <td> 0</td>\n",
       "      <td> 0</td>\n",
       "    </tr>\n",
       "  </tbody>\n",
       "</table>\n",
       "<p>5 rows × 5001 columns</p>\n",
       "</div>"
      ],
      "text/plain": [
       "                     well       rel  laboratori  recognized  research  gain  \\\n",
       "WOS:000070991500004     0  0.000000           0           0         0     0   \n",
       "WOS:000071136700022     0  0.000000           0           0         0     0   \n",
       "WOS:000071326100020     0  0.000000           0           0         0     0   \n",
       "WOS:000071380900046     0  0.000000           0           0         0     0   \n",
       "WOS:000071393800011     0  0.006135           0           0         0     0   \n",
       "\n",
       "                     lithographi  term  recogn  molecular  ...    connector  \\\n",
       "WOS:000070991500004            0     0       0   0.000000  ...            0   \n",
       "WOS:000071136700022            0     0       0   0.000000  ...            0   \n",
       "WOS:000071326100020            0     0       0   0.000000  ...            0   \n",
       "WOS:000071380900046            0     0       0   0.003049  ...            0   \n",
       "WOS:000071393800011            0     0       0   0.000000  ...            0   \n",
       "\n",
       "                     cerium  strip  self-clean  patterning  nnin  beta-sheet  \\\n",
       "WOS:000070991500004       0      0           0           0     0           0   \n",
       "WOS:000071136700022       0      0           0           0     0           0   \n",
       "WOS:000071326100020       0      0           0           0     0           0   \n",
       "WOS:000071380900046       0      0           0           0     0           0   \n",
       "WOS:000071393800011       0      0           0           0     0           0   \n",
       "\n",
       "                     spleen  toxin  stamp  \n",
       "WOS:000070991500004       0      0      0  \n",
       "WOS:000071136700022       0      0      0  \n",
       "WOS:000071326100020       0      0      0  \n",
       "WOS:000071380900046       0      0      0  \n",
       "WOS:000071393800011       0      0      0  \n",
       "\n",
       "[5 rows x 5001 columns]"
      ]
     },
     "execution_count": 45,
     "metadata": {},
     "output_type": "execute_result"
    }
   ],
   "source": [
    "print(dg_norm.shape)\n",
    "dg_norm.head()"
   ]
  },
  {
   "cell_type": "code",
   "execution_count": 48,
   "metadata": {
    "collapsed": false
   },
   "outputs": [
    {
     "data": {
      "text/html": [
       "<div style=\"max-height:1000px;max-width:1500px;overflow:auto;\">\n",
       "<table border=\"1\" class=\"dataframe\">\n",
       "  <thead>\n",
       "    <tr style=\"text-align: right;\">\n",
       "      <th></th>\n",
       "      <th>all_others</th>\n",
       "      <th>stopwords</th>\n",
       "      <th>use</th>\n",
       "      <th>nanotechnolog</th>\n",
       "      <th>nanoparticl</th>\n",
       "      <th>applic</th>\n",
       "      <th>develop</th>\n",
       "      <th>system</th>\n",
       "      <th>effect</th>\n",
       "      <th>cell</th>\n",
       "      <th>...</th>\n",
       "      <th>isolation</th>\n",
       "      <th>metrology</th>\n",
       "      <th>visualization</th>\n",
       "      <th>silicon carbide</th>\n",
       "      <th>atomic layer deposition</th>\n",
       "      <th>classroom</th>\n",
       "      <th>dye-sensit</th>\n",
       "      <th>probing</th>\n",
       "      <th>green nanotechnology</th>\n",
       "      <th>cells using</th>\n",
       "    </tr>\n",
       "  </thead>\n",
       "  <tbody>\n",
       "    <tr>\n",
       "      <th>WOS:000070991500004</th>\n",
       "      <td>  2</td>\n",
       "      <td>  1</td>\n",
       "      <td> 0</td>\n",
       "      <td> 0</td>\n",
       "      <td> 0</td>\n",
       "      <td> 0</td>\n",
       "      <td> 0</td>\n",
       "      <td> 0</td>\n",
       "      <td> 0</td>\n",
       "      <td> 0</td>\n",
       "      <td>...</td>\n",
       "      <td> 0</td>\n",
       "      <td> 0</td>\n",
       "      <td> 0</td>\n",
       "      <td> 0</td>\n",
       "      <td> 0</td>\n",
       "      <td> 0</td>\n",
       "      <td> 0</td>\n",
       "      <td> 0</td>\n",
       "      <td> 0</td>\n",
       "      <td> 0</td>\n",
       "    </tr>\n",
       "    <tr>\n",
       "      <th>WOS:000071136700022</th>\n",
       "      <td> 55</td>\n",
       "      <td> 79</td>\n",
       "      <td> 4</td>\n",
       "      <td> 1</td>\n",
       "      <td> 0</td>\n",
       "      <td> 1</td>\n",
       "      <td> 1</td>\n",
       "      <td> 0</td>\n",
       "      <td> 0</td>\n",
       "      <td> 0</td>\n",
       "      <td>...</td>\n",
       "      <td> 0</td>\n",
       "      <td> 0</td>\n",
       "      <td> 0</td>\n",
       "      <td> 0</td>\n",
       "      <td> 0</td>\n",
       "      <td> 0</td>\n",
       "      <td> 0</td>\n",
       "      <td> 0</td>\n",
       "      <td> 0</td>\n",
       "      <td> 0</td>\n",
       "    </tr>\n",
       "    <tr>\n",
       "      <th>WOS:000071326100020</th>\n",
       "      <td>  2</td>\n",
       "      <td>  2</td>\n",
       "      <td> 0</td>\n",
       "      <td> 1</td>\n",
       "      <td> 0</td>\n",
       "      <td> 0</td>\n",
       "      <td> 0</td>\n",
       "      <td> 0</td>\n",
       "      <td> 0</td>\n",
       "      <td> 0</td>\n",
       "      <td>...</td>\n",
       "      <td> 0</td>\n",
       "      <td> 0</td>\n",
       "      <td> 0</td>\n",
       "      <td> 0</td>\n",
       "      <td> 0</td>\n",
       "      <td> 0</td>\n",
       "      <td> 0</td>\n",
       "      <td> 0</td>\n",
       "      <td> 0</td>\n",
       "      <td> 0</td>\n",
       "    </tr>\n",
       "    <tr>\n",
       "      <th>WOS:000071380900046</th>\n",
       "      <td> 99</td>\n",
       "      <td> 88</td>\n",
       "      <td> 1</td>\n",
       "      <td> 0</td>\n",
       "      <td> 0</td>\n",
       "      <td> 0</td>\n",
       "      <td> 0</td>\n",
       "      <td> 0</td>\n",
       "      <td> 0</td>\n",
       "      <td> 0</td>\n",
       "      <td>...</td>\n",
       "      <td> 0</td>\n",
       "      <td> 0</td>\n",
       "      <td> 0</td>\n",
       "      <td> 0</td>\n",
       "      <td> 0</td>\n",
       "      <td> 0</td>\n",
       "      <td> 0</td>\n",
       "      <td> 0</td>\n",
       "      <td> 0</td>\n",
       "      <td> 0</td>\n",
       "    </tr>\n",
       "    <tr>\n",
       "      <th>WOS:000071393800011</th>\n",
       "      <td> 50</td>\n",
       "      <td> 52</td>\n",
       "      <td> 2</td>\n",
       "      <td> 1</td>\n",
       "      <td> 0</td>\n",
       "      <td> 0</td>\n",
       "      <td> 0</td>\n",
       "      <td> 0</td>\n",
       "      <td> 0</td>\n",
       "      <td> 0</td>\n",
       "      <td>...</td>\n",
       "      <td> 0</td>\n",
       "      <td> 0</td>\n",
       "      <td> 0</td>\n",
       "      <td> 0</td>\n",
       "      <td> 0</td>\n",
       "      <td> 0</td>\n",
       "      <td> 0</td>\n",
       "      <td> 0</td>\n",
       "      <td> 0</td>\n",
       "      <td> 0</td>\n",
       "    </tr>\n",
       "  </tbody>\n",
       "</table>\n",
       "<p>5 rows × 5001 columns</p>\n",
       "</div>"
      ],
      "text/plain": [
       "                     all_others  stopwords  use  nanotechnolog  nanoparticl  \\\n",
       "WOS:000070991500004           2          1    0              0            0   \n",
       "WOS:000071136700022          55         79    4              1            0   \n",
       "WOS:000071326100020           2          2    0              1            0   \n",
       "WOS:000071380900046          99         88    1              0            0   \n",
       "WOS:000071393800011          50         52    2              1            0   \n",
       "\n",
       "                     applic  develop  system  effect  cell     ...       \\\n",
       "WOS:000070991500004       0        0       0       0     0     ...        \n",
       "WOS:000071136700022       1        1       0       0     0     ...        \n",
       "WOS:000071326100020       0        0       0       0     0     ...        \n",
       "WOS:000071380900046       0        0       0       0     0     ...        \n",
       "WOS:000071393800011       0        0       0       0     0     ...        \n",
       "\n",
       "                     isolation  metrology  visualization  silicon carbide  \\\n",
       "WOS:000070991500004          0          0              0                0   \n",
       "WOS:000071136700022          0          0              0                0   \n",
       "WOS:000071326100020          0          0              0                0   \n",
       "WOS:000071380900046          0          0              0                0   \n",
       "WOS:000071393800011          0          0              0                0   \n",
       "\n",
       "                     atomic layer deposition  classroom  dye-sensit  probing  \\\n",
       "WOS:000070991500004                        0          0           0        0   \n",
       "WOS:000071136700022                        0          0           0        0   \n",
       "WOS:000071326100020                        0          0           0        0   \n",
       "WOS:000071380900046                        0          0           0        0   \n",
       "WOS:000071393800011                        0          0           0        0   \n",
       "\n",
       "                     green nanotechnology  cells using  \n",
       "WOS:000070991500004                     0            0  \n",
       "WOS:000071136700022                     0            0  \n",
       "WOS:000071326100020                     0            0  \n",
       "WOS:000071380900046                     0            0  \n",
       "WOS:000071393800011                     0            0  \n",
       "\n",
       "[5 rows x 5001 columns]"
      ]
     },
     "execution_count": 48,
     "metadata": {},
     "output_type": "execute_result"
    }
   ],
   "source": [
    "column_sum = dg.sum(axis=0)\n",
    "column_sum.sort(ascending=False)\n",
    "\n",
    "dg_norm_sort = dg[column_sum.index]\n",
    "dg_norm_sort.head()"
   ]
  },
  {
   "cell_type": "code",
   "execution_count": 68,
   "metadata": {
    "collapsed": false
   },
   "outputs": [
    {
     "name": "stdout",
     "output_type": "stream",
     "text": [
      "(5000, 300)\n"
     ]
    }
   ],
   "source": [
    "X = dg_norm.as_matrix()\n",
    "X_trunc = X[0:5000,0:300]\n",
    "\n",
    "print(X_trunc.shape)"
   ]
  },
  {
   "cell_type": "code",
   "execution_count": 69,
   "metadata": {
    "collapsed": false
   },
   "outputs": [
    {
     "name": "stdout",
     "output_type": "stream",
     "text": [
      "[t-SNE] Computing pairwise distances...\n",
      "[t-SNE] Computed conditional probabilities for sample 1000 / 5000\n",
      "[t-SNE] Computed conditional probabilities for sample 2000 / 5000\n",
      "[t-SNE] Computed conditional probabilities for sample 3000 / 5000\n",
      "[t-SNE] Computed conditional probabilities for sample 4000 / 5000\n",
      "[t-SNE] Computed conditional probabilities for sample 5000 / 5000\n",
      "[t-SNE] Mean sigma: 0.014563\n",
      "[t-SNE] Error after 83 iterations with early exaggeration: 19.857420\n",
      "[t-SNE] Error after 172 iterations: 2.187256\n"
     ]
    }
   ],
   "source": [
    "model = TSNE(n_components=2, random_state=0, verbose=1)\n",
    "pos=model.fit_transform(X_trunc) "
   ]
  },
  {
   "cell_type": "code",
   "execution_count": 67,
   "metadata": {
    "collapsed": false
   },
   "outputs": [
    {
     "data": {
      "image/png": "[encoded data removed]",
      "text/plain": [
       "<matplotlib.figure.Figure at 0x10c72da0>"
      ]
     },
     "metadata": {},
     "output_type": "display_data"
    }
   ],
   "source": [
    "%matplotlib inline\n",
    "import numpy as np\n",
    "import matplotlib.pyplot as plt\n",
    "\n",
    "plt.scatter(pos[:, 0], pos[:, 1], s=20, c='g')\n",
    "plt.show()"
   ]
  },
  {
   "cell_type": "code",
   "execution_count": 39,
   "metadata": {
    "collapsed": false
   },
   "outputs": [
    {
     "name": "stdout",
     "output_type": "stream",
     "text": [
      "(8000, 2)\n"
     ]
    }
   ],
   "source": [
    "print(pos.shape)"
   ]
  },
  {
   "cell_type": "code",
   "execution_count": null,
   "metadata": {
    "collapsed": true
   },
   "outputs": [],
   "source": []
  }
 ],
 "metadata": {
  "kernelspec": {
   "display_name": "Python 3",
   "language": "python",
   "name": "python3"
  },
  "language_info": {
   "codemirror_mode": {
    "name": "ipython",
    "version": 3
   },
   "file_extension": ".py",
   "mimetype": "text/x-python",
   "name": "python",
   "nbconvert_exporter": "python",
   "pygments_lexer": "ipython3",
   "version": "3.4.3"
  }
 },
 "nbformat": 4,
 "nbformat_minor": 0
}
